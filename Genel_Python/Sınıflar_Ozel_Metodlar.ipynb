{
 "cells": [
  {
   "cell_type": "markdown",
   "id": "56441394",
   "metadata": {},
   "source": [
    "# Sınıflar İçin Özel Metodlar"
   ]
  },
  {
   "cell_type": "code",
   "execution_count": 28,
   "id": "81af459b",
   "metadata": {},
   "outputs": [],
   "source": [
    "class Meyve():\n",
    "    def __init__(self,isim,kalori):\n",
    "        self.isim=isim\n",
    "        self.kalori=kalori\n",
    "    def __str__(self):\n",
    "        return f\"{self.isim} şu kadar kaloriye sahiptir: {self.kalori}\"\n",
    "    def __len__(self):\n",
    "        return self.kalori"
   ]
  },
  {
   "cell_type": "code",
   "execution_count": 29,
   "id": "e019d1b8",
   "metadata": {},
   "outputs": [],
   "source": [
    "muz= Meyve(\"Muz\",150)"
   ]
  },
  {
   "cell_type": "code",
   "execution_count": 30,
   "id": "993996ed",
   "metadata": {},
   "outputs": [
    {
     "data": {
      "text/plain": [
       "150"
      ]
     },
     "execution_count": 30,
     "metadata": {},
     "output_type": "execute_result"
    }
   ],
   "source": [
    "muz.kalori"
   ]
  },
  {
   "cell_type": "code",
   "execution_count": 31,
   "id": "51c5f453",
   "metadata": {},
   "outputs": [
    {
     "data": {
      "text/plain": [
       "'Muz'"
      ]
     },
     "execution_count": 31,
     "metadata": {},
     "output_type": "execute_result"
    }
   ],
   "source": [
    "muz.isim"
   ]
  },
  {
   "cell_type": "markdown",
   "id": "4090a108",
   "metadata": {},
   "source": [
    "# eğer __str__ methodu yukarıda belirtilmeseydi, print(muz)\n",
    "# komutu sadece bilgi içerecek, herhangi bir çıktı vermeyecekti"
   ]
  },
  {
   "cell_type": "code",
   "execution_count": 32,
   "id": "bb283807",
   "metadata": {},
   "outputs": [
    {
     "name": "stdout",
     "output_type": "stream",
     "text": [
      "Muz şu kadar kaloriye sahiptir: 150\n"
     ]
    }
   ],
   "source": [
    "print(muz)"
   ]
  },
  {
   "cell_type": "code",
   "execution_count": 33,
   "id": "25e83292",
   "metadata": {},
   "outputs": [
    {
     "data": {
      "text/plain": [
       "150"
      ]
     },
     "execution_count": 33,
     "metadata": {},
     "output_type": "execute_result"
    }
   ],
   "source": [
    "len(muz)"
   ]
  },
  {
   "cell_type": "markdown",
   "id": "18a59f90",
   "metadata": {},
   "source": [
    "# Bu özel methodları bulabilmek için google'a \n",
    "# \"special methods in python\"  yazılabilir."
   ]
  },
  {
   "cell_type": "code",
   "execution_count": null,
   "id": "d18c028d",
   "metadata": {},
   "outputs": [],
   "source": []
  }
 ],
 "metadata": {
  "kernelspec": {
   "display_name": "Python 3",
   "language": "python",
   "name": "python3"
  },
  "language_info": {
   "codemirror_mode": {
    "name": "ipython",
    "version": 3
   },
   "file_extension": ".py",
   "mimetype": "text/x-python",
   "name": "python",
   "nbconvert_exporter": "python",
   "pygments_lexer": "ipython3",
   "version": "3.8.8"
  }
 },
 "nbformat": 4,
 "nbformat_minor": 5
}
