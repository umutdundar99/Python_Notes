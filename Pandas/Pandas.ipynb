{
 "cells": [
  {
   "cell_type": "markdown",
   "id": "8744b608",
   "metadata": {},
   "source": [
    "# Pandas Kütüphanesi"
   ]
  },
  {
   "cell_type": "markdown",
   "id": "3d2a7a9f",
   "metadata": {},
   "source": [
    "# Seriler"
   ]
  },
  {
   "cell_type": "code",
   "execution_count": 19,
   "id": "5fe066fb",
   "metadata": {},
   "outputs": [],
   "source": [
    "import pandas as pd\n",
    "import numpy as np\n",
    "# Dictionary oluşturma\n",
    "benimSozlugum = {\"Umut\":22,\"Ahmet\":18,\"Omer\":23}"
   ]
  },
  {
   "cell_type": "code",
   "execution_count": 20,
   "id": "a1d5f66d",
   "metadata": {},
   "outputs": [
    {
     "data": {
      "text/plain": [
       "Umut     22\n",
       "Ahmet    18\n",
       "Omer     23\n",
       "dtype: int64"
      ]
     },
     "execution_count": 20,
     "metadata": {},
     "output_type": "execute_result"
    }
   ],
   "source": [
    "# Pandas Series Oluşturma\n",
    "pd.Series(benimSozlugum)"
   ]
  },
  {
   "cell_type": "code",
   "execution_count": 21,
   "id": "09d2a29c",
   "metadata": {},
   "outputs": [
    {
     "data": {
      "text/plain": [
       "Umut      22\n",
       "Ahmet     18\n",
       "Mehmet    23\n",
       "dtype: int64"
      ]
     },
     "execution_count": 21,
     "metadata": {},
     "output_type": "execute_result"
    }
   ],
   "source": [
    "benimYaslarim= [22,18,23]\n",
    "benimIsimlerim= [\"Umut\",\"Ahmet\",\"Mehmet\"]\n",
    "pd.Series(benimYaslarim,benimIsimlerim)"
   ]
  },
  {
   "cell_type": "code",
   "execution_count": 22,
   "id": "a597f2c5",
   "metadata": {},
   "outputs": [
    {
     "data": {
      "text/plain": [
       "Umut      22\n",
       "Ahmet     18\n",
       "Mehmet    23\n",
       "dtype: int64"
      ]
     },
     "execution_count": 22,
     "metadata": {},
     "output_type": "execute_result"
    }
   ],
   "source": [
    "# Indexleri belirleyebilmek adına data ve index kullanılabilir\n",
    "pd.Series(data=benimYaslarim,index=benimIsimlerim)"
   ]
  },
  {
   "cell_type": "code",
   "execution_count": 23,
   "id": "b5c11b17",
   "metadata": {},
   "outputs": [
    {
     "data": {
      "text/plain": [
       "0    22\n",
       "1    18\n",
       "2    23\n",
       "dtype: int32"
      ]
     },
     "execution_count": 23,
     "metadata": {},
     "output_type": "execute_result"
    }
   ],
   "source": [
    "# Numpy dizisini pandas serisine dönüştürmek\n",
    "numpyDizisi = np.array([22,18,23])\n",
    "pd.Series(numpyDizisi)"
   ]
  }
 ],
 "metadata": {
  "kernelspec": {
   "display_name": "Python 3",
   "language": "python",
   "name": "python3"
  },
  "language_info": {
   "codemirror_mode": {
    "name": "ipython",
    "version": 3
   },
   "file_extension": ".py",
   "mimetype": "text/x-python",
   "name": "python",
   "nbconvert_exporter": "python",
   "pygments_lexer": "ipython3",
   "version": "3.8.8"
  }
 },
 "nbformat": 4,
 "nbformat_minor": 5
}
