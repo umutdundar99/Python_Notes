{
 "cells": [
  {
   "cell_type": "markdown",
   "id": "46506228",
   "metadata": {},
   "source": [
    "## TUPLE"
   ]
  },
  {
   "cell_type": "markdown",
   "id": "02227e32",
   "metadata": {},
   "source": [
    "# -Listelerde içeriği değiştirebiliriz. \n",
    "# -Index ile verilere ulaşılabilir.\n",
    "# -Bilgiler değiştirilemez."
   ]
  },
  {
   "cell_type": "code",
   "execution_count": 6,
   "id": "84db7f39",
   "metadata": {},
   "outputs": [],
   "source": [
    "tuple = (1,2,\"a\",4.5)"
   ]
  },
  {
   "cell_type": "code",
   "execution_count": 8,
   "id": "6e53f3ae",
   "metadata": {},
   "outputs": [
    {
     "data": {
      "text/plain": [
       "2"
      ]
     },
     "execution_count": 8,
     "metadata": {},
     "output_type": "execute_result"
    }
   ],
   "source": [
    "tuple[1]"
   ]
  },
  {
   "cell_type": "code",
   "execution_count": null,
   "id": "b43ee497",
   "metadata": {},
   "outputs": [],
   "source": [
    "setim={set}"
   ]
  }
 ],
 "metadata": {
  "kernelspec": {
   "display_name": "Python 3",
   "language": "python",
   "name": "python3"
  },
  "language_info": {
   "codemirror_mode": {
    "name": "ipython",
    "version": 3
   },
   "file_extension": ".py",
   "mimetype": "text/x-python",
   "name": "python",
   "nbconvert_exporter": "python",
   "pygments_lexer": "ipython3",
   "version": "3.8.8"
  }
 },
 "nbformat": 4,
 "nbformat_minor": 5
}
