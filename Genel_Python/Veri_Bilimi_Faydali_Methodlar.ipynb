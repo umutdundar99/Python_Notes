{
 "cells": [
  {
   "cell_type": "markdown",
   "id": "5bed9298",
   "metadata": {},
   "source": [
    "#  Range fonksiyonu detaylı anlatım"
   ]
  },
  {
   "cell_type": "markdown",
   "id": "2b8060d3",
   "metadata": {},
   "source": [
    "Range komutu ile liste oluşturma.\n",
    "Burada range bize aralık verir."
   ]
  },
  {
   "cell_type": "code",
   "execution_count": 2,
   "id": "00150899",
   "metadata": {},
   "outputs": [
    {
     "data": {
      "text/plain": [
       "[0, 1, 2, 3, 4, 5, 6, 7, 8, 9, 10, 11, 12, 13, 14, 15, 16, 17, 18, 19]"
      ]
     },
     "execution_count": 2,
     "metadata": {},
     "output_type": "execute_result"
    }
   ],
   "source": [
    "list(range(20))"
   ]
  },
  {
   "cell_type": "code",
   "execution_count": 4,
   "id": "ac376adc",
   "metadata": {},
   "outputs": [
    {
     "name": "stdout",
     "output_type": "stream",
     "text": [
      "0\n",
      "5\n",
      "10\n",
      "15\n",
      "20\n",
      "25\n",
      "30\n",
      "35\n",
      "40\n",
      "45\n",
      "50\n",
      "55\n",
      "60\n",
      "65\n",
      "70\n"
     ]
    }
   ],
   "source": [
    "for numara in list(range(15)):\n",
    "         print(numara*5)"
   ]
  },
  {
   "cell_type": "markdown",
   "id": "82207c19",
   "metadata": {},
   "source": [
    "# 5'ten başla, 21'e kadar git, 4'er aralıklarla bunu yap demektir."
   ]
  },
  {
   "cell_type": "code",
   "execution_count": 5,
   "id": "cd20ceed",
   "metadata": {},
   "outputs": [
    {
     "data": {
      "text/plain": [
       "[5, 9, 13, 17]"
      ]
     },
     "execution_count": 5,
     "metadata": {},
     "output_type": "execute_result"
    }
   ],
   "source": [
    "list(range(5,21,4))"
   ]
  },
  {
   "cell_type": "markdown",
   "id": "b4bc8a9b",
   "metadata": {},
   "source": [
    "# For döngüsünde range kullanımı"
   ]
  },
  {
   "cell_type": "code",
   "execution_count": 7,
   "id": "a2d6d3d7",
   "metadata": {},
   "outputs": [
    {
     "name": "stdout",
     "output_type": "stream",
     "text": [
      "1\n",
      "2\n",
      "3\n",
      "4\n",
      "5\n"
     ]
    }
   ],
   "source": [
    "listem=[1,2,3,4,5,6,7,8]\n",
    "for i in range(5):\n",
    "    print(listem[i])"
   ]
  },
  {
   "cell_type": "code",
   "execution_count": 9,
   "id": "d6249f09",
   "metadata": {},
   "outputs": [
    {
     "name": "stdout",
     "output_type": "stream",
     "text": [
      "güncel numara:5 güncel index: 0\n",
      "güncel numara:6 güncel index: 1\n",
      "güncel numara:7 güncel index: 2\n",
      "güncel numara:8 güncel index: 3\n",
      "güncel numara:9 güncel index: 4\n",
      "güncel numara:10 güncel index: 5\n",
      "güncel numara:11 güncel index: 6\n",
      "güncel numara:12 güncel index: 7\n",
      "güncel numara:13 güncel index: 8\n",
      "güncel numara:14 güncel index: 9\n"
     ]
    }
   ],
   "source": [
    "index=0\n",
    "for numara in list(range(5,15)):\n",
    "    print(f\"güncel numara:{numara} güncel index: {index}\")\n",
    "    index=index+1"
   ]
  },
  {
   "cell_type": "markdown",
   "id": "95338c31",
   "metadata": {},
   "source": [
    "# Enumerate kullanımı: İkili eleman"
   ]
  },
  {
   "cell_type": "code",
   "execution_count": 14,
   "id": "3bd161c9",
   "metadata": {},
   "outputs": [
    {
     "name": "stdout",
     "output_type": "stream",
     "text": [
      "(0, 5)\n",
      "(1, 6)\n",
      "(2, 7)\n",
      "(3, 8)\n",
      "(4, 9)\n",
      "(5, 10)\n",
      "(6, 11)\n",
      "(7, 12)\n",
      "(8, 13)\n",
      "(9, 14)\n"
     ]
    }
   ],
   "source": [
    "for numara in enumerate(list(range(5,15))):\n",
    "    print(numara)"
   ]
  },
  {
   "cell_type": "markdown",
   "id": "c6fb0ca5",
   "metadata": {},
   "source": [
    "# Random Kullanımı"
   ]
  },
  {
   "cell_type": "code",
   "execution_count": 1,
   "id": "7e56368a",
   "metadata": {},
   "outputs": [
    {
     "data": {
      "text/plain": [
       "8"
      ]
     },
     "execution_count": 1,
     "metadata": {},
     "output_type": "execute_result"
    }
   ],
   "source": [
    "from random import randint\n",
    "randint(0,100)"
   ]
  },
  {
   "cell_type": "markdown",
   "id": "1c15a83c",
   "metadata": {},
   "source": [
    "# Shuffle Kütüphanesi Kullanımı"
   ]
  },
  {
   "cell_type": "markdown",
   "id": "9bbc259b",
   "metadata": {},
   "source": [
    "Sözlük gibi çalışır fakat 2'den fazla index eşleyebilir."
   ]
  },
  {
   "cell_type": "code",
   "execution_count": 2,
   "id": "3ea6727a",
   "metadata": {},
   "outputs": [
    {
     "data": {
      "text/plain": [
       "[7, 8, 9, 5, 4, 0, 2, 6, 1, 3]"
      ]
     },
     "execution_count": 2,
     "metadata": {},
     "output_type": "execute_result"
    }
   ],
   "source": [
    "listem=list(range(0,10))\n",
    "from random import shuffle \n",
    "shuffle(listem)\n",
    "listem"
   ]
  },
  {
   "cell_type": "markdown",
   "id": "00a6a96a",
   "metadata": {},
   "source": [
    "# Zip Kullanımı"
   ]
  },
  {
   "cell_type": "code",
   "execution_count": 3,
   "id": "22bc621d",
   "metadata": {},
   "outputs": [],
   "source": [
    "yemekListesi=[\"muz\",\"ananas\",\"elma\"]\n",
    "kaloriListesi=[100,200,300]\n",
    "gunListesi=[\"Pazartesi\",\"Salı\",\"Çarşamba\"]"
   ]
  },
  {
   "cell_type": "code",
   "execution_count": 4,
   "id": "b74ad3b0",
   "metadata": {},
   "outputs": [
    {
     "data": {
      "text/plain": [
       "[('muz', 100, 'Paszartesi'),\n",
       " ('ananas', 200, 'salı'),\n",
       " ('elma', 300, 'çarşamba')]"
      ]
     },
     "execution_count": 4,
     "metadata": {},
     "output_type": "execute_result"
    }
   ],
   "source": [
    "list(zip(yemekListesi,kaloriListesi,gunListesi))"
   ]
  },
  {
   "cell_type": "markdown",
   "id": "95f401f4",
   "metadata": {},
   "source": [
    "# Listeler İleri Seviye"
   ]
  },
  {
   "cell_type": "code",
   "execution_count": 5,
   "id": "00d697e3",
   "metadata": {},
   "outputs": [],
   "source": [
    "listeOrnegi=[]\n",
    "benimString=\"Umut Dündar\"\n",
    "for harf in benimString:\n",
    "    listeOrnegi.append(harf)"
   ]
  },
  {
   "cell_type": "code",
   "execution_count": 6,
   "id": "7bb5a3a0",
   "metadata": {},
   "outputs": [
    {
     "data": {
      "text/plain": [
       "['U', 'm', 'u', 't', ' ', 'D', 'ü', 'n', 'd', 'a', 'r']"
      ]
     },
     "execution_count": 6,
     "metadata": {},
     "output_type": "execute_result"
    }
   ],
   "source": [
    "listeOrnegi"
   ]
  },
  {
   "cell_type": "markdown",
   "id": "a188f0fc",
   "metadata": {},
   "source": [
    "Bu işlemin aynısı için aşağıdaki işlem yapılabilir\n"
   ]
  },
  {
   "cell_type": "code",
   "execution_count": 7,
   "id": "9af0f042",
   "metadata": {},
   "outputs": [
    {
     "data": {
      "text/plain": [
       "['U', 'm', 'u', 't', ' ', 'D', 'ü', 'n', 'd', 'a', 'r']"
      ]
     },
     "execution_count": 7,
     "metadata": {},
     "output_type": "execute_result"
    }
   ],
   "source": [
    "yeniString=\"Umut Dündar\"\n",
    "yeniListeOrnegi=[eleman for eleman in yeniString]\n",
    "yeniListeOrnegi"
   ]
  },
  {
   "cell_type": "markdown",
   "id": "05e38c84",
   "metadata": {},
   "source": [
    "Listenin içindeki her bir numarayı numara diye bir değişkene atıyoruz, bu numaranın 5 ile çarpılmış halini listeye ekliyoruz."
   ]
  },
  {
   "cell_type": "code",
   "execution_count": 8,
   "id": "216a9206",
   "metadata": {},
   "outputs": [],
   "source": [
    "ikinciListeOrnegi = [numara*5 for numara in list(range(0,10))]"
   ]
  },
  {
   "cell_type": "code",
   "execution_count": 9,
   "id": "f2453f64",
   "metadata": {},
   "outputs": [
    {
     "data": {
      "text/plain": [
       "[0, 5, 10, 15, 20, 25, 30, 35, 40, 45]"
      ]
     },
     "execution_count": 9,
     "metadata": {},
     "output_type": "execute_result"
    }
   ],
   "source": [
    "ikinciListeOrnegi"
   ]
  },
  {
   "cell_type": "code",
   "execution_count": null,
   "id": "826613ef",
   "metadata": {},
   "outputs": [],
   "source": []
  }
 ],
 "metadata": {
  "kernelspec": {
   "display_name": "Python 3",
   "language": "python",
   "name": "python3"
  },
  "language_info": {
   "codemirror_mode": {
    "name": "ipython",
    "version": 3
   },
   "file_extension": ".py",
   "mimetype": "text/x-python",
   "name": "python",
   "nbconvert_exporter": "python",
   "pygments_lexer": "ipython3",
   "version": "3.8.8"
  }
 },
 "nbformat": 4,
 "nbformat_minor": 5
}
