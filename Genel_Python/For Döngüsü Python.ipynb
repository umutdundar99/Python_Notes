{
 "cells": [
  {
   "cell_type": "markdown",
   "id": "f11cf70b",
   "metadata": {},
   "source": [
    "# For Döngüsü"
   ]
  },
  {
   "cell_type": "code",
   "execution_count": 11,
   "id": "d3dfb866",
   "metadata": {},
   "outputs": [
    {
     "name": "stdout",
     "output_type": "stream",
     "text": [
      "2\n",
      "4\n",
      "6\n",
      "8\n",
      "10\n"
     ]
    }
   ],
   "source": [
    "numara=[2,4,6,8,10]\n",
    "for i in numara:\n",
    "    print(i)"
   ]
  },
  {
   "cell_type": "code",
   "execution_count": 13,
   "id": "46ac6cc7",
   "metadata": {},
   "outputs": [
    {
     "ename": "SyntaxError",
     "evalue": "cannot assign to operator (<ipython-input-13-1f51a3dddd43>, line 2)",
     "output_type": "error",
     "traceback": [
      "\u001b[1;36m  File \u001b[1;32m\"<ipython-input-13-1f51a3dddd43>\"\u001b[1;36m, line \u001b[1;32m2\u001b[0m\n\u001b[1;33m    for (i+2) in numara:\u001b[0m\n\u001b[1;37m        ^\u001b[0m\n\u001b[1;31mSyntaxError\u001b[0m\u001b[1;31m:\u001b[0m cannot assign to operator\n"
     ]
    }
   ],
   "source": [
    "numara= [1,2,3,4,5,6]\n",
    "for (i+2) in numara:\n",
    "    print(i)"
   ]
  },
  {
   "cell_type": "markdown",
   "id": "20f1c593",
   "metadata": {},
   "source": [
    "# İkili listelerde for döngüsü"
   ]
  },
  {
   "cell_type": "code",
   "execution_count": 10,
   "id": "5fb29d79",
   "metadata": {},
   "outputs": [
    {
     "name": "stdout",
     "output_type": "stream",
     "text": [
      "10.2 23.3\n",
      "4.5 22.1\n"
     ]
    }
   ],
   "source": [
    "koordinat= [(10.2,23.3),(4.5,22.1)]\n",
    "for (x,y) in koordinat:\n",
    "    print(x,y)"
   ]
  },
  {
   "cell_type": "markdown",
   "id": "6733cb2f",
   "metadata": {},
   "source": [
    "# RANGE FONKSİYONU"
   ]
  },
  {
   "cell_type": "markdown",
   "id": "c7b687dc",
   "metadata": {},
   "source": [
    "Burada range fonksiyonu içindeki ilk iki sayı aralığı, 3. sayı ise hangi sıklıkla yazılacağını belirler."
   ]
  },
  {
   "cell_type": "code",
   "execution_count": 24,
   "id": "64c32c42",
   "metadata": {},
   "outputs": [
    {
     "name": "stdout",
     "output_type": "stream",
     "text": [
      "10\n",
      "12\n",
      "14\n"
     ]
    }
   ],
   "source": [
    "for i in range(10,15,2):\n",
    "    print(i)\n",
    "    \n",
    "    "
   ]
  },
  {
   "cell_type": "code",
   "execution_count": 1,
   "id": "582a4f86",
   "metadata": {},
   "outputs": [
    {
     "data": {
      "text/plain": [
       "[bool, str, float, int]"
      ]
     },
     "execution_count": 1,
     "metadata": {},
     "output_type": "execute_result"
    }
   ],
   "source": [
    "L3 = [True, \"2\", 3.0, 4]\n",
    "[type(item) for item in L3]"
   ]
  },
  {
   "cell_type": "code",
   "execution_count": null,
   "id": "bb0ad297",
   "metadata": {},
   "outputs": [],
   "source": []
  }
 ],
 "metadata": {
  "kernelspec": {
   "display_name": "Python 3",
   "language": "python",
   "name": "python3"
  },
  "language_info": {
   "codemirror_mode": {
    "name": "ipython",
    "version": 3
   },
   "file_extension": ".py",
   "mimetype": "text/x-python",
   "name": "python",
   "nbconvert_exporter": "python",
   "pygments_lexer": "ipython3",
   "version": "3.8.8"
  }
 },
 "nbformat": 4,
 "nbformat_minor": 5
}
