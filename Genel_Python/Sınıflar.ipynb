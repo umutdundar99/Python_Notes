{
 "cells": [
  {
   "cell_type": "markdown",
   "id": "3ef19b9f",
   "metadata": {},
   "source": [
    "# Sınıflar"
   ]
  },
  {
   "cell_type": "markdown",
   "id": "acea2619",
   "metadata": {},
   "source": [
    "# __init__ fonksiyonu başlatma fonksiyonudur. Herhangi bir şekilde\n",
    "# sınıfla ilgili bir şey yapıldığında init fonksiyonu çalışır"
   ]
  },
  {
   "cell_type": "code",
   "execution_count": 3,
   "id": "b2c2fc0c",
   "metadata": {},
   "outputs": [],
   "source": [
    "class SuperKahraman():\n",
    "    ozelGuc=\"gorunmezlik\"\n",
    "    def __init__ (self,isimInput,yasInput,meslekInput):       # objenin kendini referans veriyor.\n",
    "        print(\"init çağırıldı\")\n",
    "        self.isim= isimInput\n",
    "        self.yas=yasInput\n",
    "        self.meslek=meslekInput\n",
    "    def ornekMethod(self):\n",
    "        print(f\"ben süper kahramanım ve meslegim:{self.meslek}\")"
   ]
  },
  {
   "cell_type": "code",
   "execution_count": 39,
   "id": "6e93e38a",
   "metadata": {},
   "outputs": [
    {
     "name": "stdout",
     "output_type": "stream",
     "text": [
      "init çağırıldı\n"
     ]
    }
   ],
   "source": [
    "superman=SuperKahraman(\"Superman\",30,\"Gazeteci\")"
   ]
  },
  {
   "cell_type": "markdown",
   "id": "ab7d6cf8",
   "metadata": {},
   "source": [
    "# init fonksiyonunun üstüne de değişken eklenebilir ve bu değişkenler değiştirilebilir."
   ]
  },
  {
   "cell_type": "code",
   "execution_count": 40,
   "id": "a1d27b7f",
   "metadata": {},
   "outputs": [
    {
     "data": {
      "text/plain": [
       "'gorunmezlik'"
      ]
     },
     "execution_count": 40,
     "metadata": {},
     "output_type": "execute_result"
    }
   ],
   "source": [
    "superman.ozelGuc"
   ]
  },
  {
   "cell_type": "code",
   "execution_count": 41,
   "id": "c947b44a",
   "metadata": {},
   "outputs": [
    {
     "data": {
      "text/plain": [
       "'uçmak'"
      ]
     },
     "execution_count": 41,
     "metadata": {},
     "output_type": "execute_result"
    }
   ],
   "source": [
    "superman.ozelGuc= \"uçmak\"\n",
    "superman.ozelGuc"
   ]
  },
  {
   "cell_type": "markdown",
   "id": "bfc6b592",
   "metadata": {},
   "source": [
    "# Sınıflarda Metodlar"
   ]
  },
  {
   "cell_type": "code",
   "execution_count": 42,
   "id": "4f82313c",
   "metadata": {},
   "outputs": [
    {
     "name": "stdout",
     "output_type": "stream",
     "text": [
      "ben süper kahramanım ve meslegim:Gazeteci\n"
     ]
    }
   ],
   "source": [
    "superman.ornekMethod()"
   ]
  },
  {
   "cell_type": "markdown",
   "id": "29b1945c",
   "metadata": {},
   "source": [
    "# Yeni Bir Örnek\n",
    "# Herhangi bir değer verilmediğinde değer döndürmek için\n",
    "# init fonksiyonu içine değer girilebilir\n"
   ]
  },
  {
   "cell_type": "code",
   "execution_count": 1,
   "id": "83e597bc",
   "metadata": {},
   "outputs": [],
   "source": [
    "class Kopek():\n",
    "    yilCarpani=7\n",
    "    def __init__(self,yas=3):\n",
    "        self.yas=yas\n",
    "    def yasHesaplama(self):\n",
    "        return self.yas * self.yilCarpani"
   ]
  },
  {
   "cell_type": "code",
   "execution_count": 2,
   "id": "268d1fc8",
   "metadata": {},
   "outputs": [],
   "source": [
    "benimKopek=Kopek()"
   ]
  },
  {
   "cell_type": "code",
   "execution_count": 3,
   "id": "90d17577",
   "metadata": {},
   "outputs": [
    {
     "data": {
      "text/plain": [
       "3"
      ]
     },
     "execution_count": 3,
     "metadata": {},
     "output_type": "execute_result"
    }
   ],
   "source": [
    "benimKopek.yas"
   ]
  },
  {
   "cell_type": "code",
   "execution_count": 4,
   "id": "821fb5f8",
   "metadata": {},
   "outputs": [
    {
     "data": {
      "text/plain": [
       "21"
      ]
     },
     "execution_count": 4,
     "metadata": {},
     "output_type": "execute_result"
    }
   ],
   "source": [
    "benimKopek.yasHesaplama()"
   ]
  },
  {
   "cell_type": "markdown",
   "id": "441ab3ee",
   "metadata": {},
   "source": [
    " # Kalıtım (inheritance)\n",
    " # Bir sınıfın özelliklerini miras almaktır.\n",
    " # Bir sınıfta bir şeyler yaptıktan sonra diğer sınıfta da aynı şeyleri yapmak ve üstüne daha fazla\n",
    " # şey eklemek için diğer sınıftan miras alınabilir."
   ]
  },
  {
   "cell_type": "code",
   "execution_count": 5,
   "id": "fb427b97",
   "metadata": {},
   "outputs": [],
   "source": [
    "class Hayvan():\n",
    "    def __init__(self):\n",
    "        print(\"hayvan sınıfı init çağırıldı\")\n",
    "    def method1(self):\n",
    "        print(\"hayvan sınıfı method1 çağırıldı\")\n",
    "    def method2(self):\n",
    "        print(\"hayvan sınıfı method2 çağırıldı\")"
   ]
  },
  {
   "cell_type": "code",
   "execution_count": 6,
   "id": "e36387ce",
   "metadata": {},
   "outputs": [
    {
     "name": "stdout",
     "output_type": "stream",
     "text": [
      "hayvan sınıfı init çağırıldı\n"
     ]
    }
   ],
   "source": [
    "benimHayvanim=Hayvan()"
   ]
  },
  {
   "cell_type": "code",
   "execution_count": 7,
   "id": "c03b7c8c",
   "metadata": {},
   "outputs": [
    {
     "name": "stdout",
     "output_type": "stream",
     "text": [
      "hayvan sınıfı method1 çağırıldı\n"
     ]
    }
   ],
   "source": [
    "benimHayvanim.method1()"
   ]
  },
  {
   "cell_type": "code",
   "execution_count": 8,
   "id": "31da740b",
   "metadata": {},
   "outputs": [
    {
     "name": "stdout",
     "output_type": "stream",
     "text": [
      "hayvan sınıfı method2 çağırıldı\n"
     ]
    }
   ],
   "source": [
    "benimHayvanim.method2()"
   ]
  },
  {
   "cell_type": "markdown",
   "id": "b7d23f3c",
   "metadata": {},
   "source": [
    "# class oluştururken değişken yerine kalıtım yapmak istediğimiz\n",
    "# eski class'ı eklersek kalıtım olarak o classı alabiliriz"
   ]
  },
  {
   "cell_type": "code",
   "execution_count": 9,
   "id": "fc22715d",
   "metadata": {},
   "outputs": [],
   "source": [
    "class Kedi(Hayvan):\n",
    "    def __init__(self):\n",
    "        Hayvan.__init__(self)\n",
    "        print(\"kedi sınıf init çağırıldı\")\n",
    "    def method1(self):\n",
    "        print(\"kedi sınıfı method1 çağırıldı\") # override\n",
    "    def miyavla(self):\n",
    "        print(\"miyav\")"
   ]
  },
  {
   "cell_type": "code",
   "execution_count": null,
   "id": "7ab19d9f",
   "metadata": {},
   "outputs": [],
   "source": [
    "benimKedi=Kedi()"
   ]
  },
  {
   "cell_type": "code",
   "execution_count": 19,
   "id": "522bd7bb",
   "metadata": {},
   "outputs": [
    {
     "name": "stdout",
     "output_type": "stream",
     "text": [
      "kedi sınıfı method1 çağırıldı\n"
     ]
    }
   ],
   "source": [
    "benimKedi.method1()"
   ]
  },
  {
   "cell_type": "code",
   "execution_count": 20,
   "id": "2e288526",
   "metadata": {},
   "outputs": [
    {
     "name": "stdout",
     "output_type": "stream",
     "text": [
      "miyav\n"
     ]
    }
   ],
   "source": [
    "benimKedi.miyavla()"
   ]
  },
  {
   "cell_type": "markdown",
   "id": "a70447bb",
   "metadata": {},
   "source": [
    "# Kedi class'ı hayvan classının yaptığı her şeyi yapabilir fakat\n",
    "# hayvan class'ı kedi classının yaptığı her şey yapamaz.\n",
    "# Hayvan sınıfındaki bir methodu sadece kedi sınıfı için kullanmak istersek kedi sınıfında yeni bir method oluşturarak bunu yapabiliriz."
   ]
  },
  {
   "cell_type": "code",
   "execution_count": 24,
   "id": "01a92077",
   "metadata": {},
   "outputs": [
    {
     "name": "stdout",
     "output_type": "stream",
     "text": [
      "kedi sınıfı method1 çağırıldı\n"
     ]
    }
   ],
   "source": [
    "benimKedi.method1() "
   ]
  },
  {
   "cell_type": "markdown",
   "id": "b3f5866b",
   "metadata": {},
   "source": [
    "# Polymorphism\n",
    "# Class içinde aynı fonksiyonlar için kullanılır."
   ]
  },
  {
   "cell_type": "code",
   "execution_count": 31,
   "id": "38c0c49c",
   "metadata": {},
   "outputs": [],
   "source": [
    "class Elma():\n",
    "    def __init__(self,isim):\n",
    "        self.isim=isim\n",
    "    def bilgiVer(self):\n",
    "        return self.isim + \" 100 kaloridir\""
   ]
  },
  {
   "cell_type": "code",
   "execution_count": 32,
   "id": "e9a29870",
   "metadata": {},
   "outputs": [],
   "source": [
    "class Muz():\n",
    "    def __init__(self,isim):\n",
    "        self.isim=isim\n",
    "    def bilgiVer(self):\n",
    "        return self.isim + \" 150 kaloridir\""
   ]
  },
  {
   "cell_type": "code",
   "execution_count": 33,
   "id": "2897a8ca",
   "metadata": {},
   "outputs": [],
   "source": [
    "elma= Elma(\"elma\")"
   ]
  },
  {
   "cell_type": "code",
   "execution_count": 34,
   "id": "0cde7efb",
   "metadata": {},
   "outputs": [
    {
     "data": {
      "text/plain": [
       "'elma 100 kaloridir'"
      ]
     },
     "execution_count": 34,
     "metadata": {},
     "output_type": "execute_result"
    }
   ],
   "source": [
    "elma.bilgiVer()"
   ]
  },
  {
   "cell_type": "code",
   "execution_count": 35,
   "id": "1e9c63be",
   "metadata": {},
   "outputs": [],
   "source": [
    "muz= Muz(\"muz\")"
   ]
  },
  {
   "cell_type": "code",
   "execution_count": 36,
   "id": "83e4bf60",
   "metadata": {},
   "outputs": [
    {
     "data": {
      "text/plain": [
       "'muz 150 kaloridir'"
      ]
     },
     "execution_count": 36,
     "metadata": {},
     "output_type": "execute_result"
    }
   ],
   "source": [
    "muz.bilgiVer()"
   ]
  },
  {
   "cell_type": "code",
   "execution_count": 37,
   "id": "d58da4a3",
   "metadata": {},
   "outputs": [],
   "source": [
    "meyveListesi = [elma,muz]"
   ]
  },
  {
   "cell_type": "code",
   "execution_count": 38,
   "id": "07328f12",
   "metadata": {},
   "outputs": [
    {
     "name": "stdout",
     "output_type": "stream",
     "text": [
      "elma 100 kaloridir\n",
      "muz 150 kaloridir\n"
     ]
    }
   ],
   "source": [
    "for meyve in meyveListesi:\n",
    "    print(meyve.bilgiVer())"
   ]
  },
  {
   "cell_type": "code",
   "execution_count": 39,
   "id": "1c3cb045",
   "metadata": {},
   "outputs": [],
   "source": [
    "def bilgiAl(meyve):\n",
    "    print(meyve.bilgiVer())\n",
    "    "
   ]
  },
  {
   "cell_type": "code",
   "execution_count": 40,
   "id": "92e64576",
   "metadata": {},
   "outputs": [
    {
     "name": "stdout",
     "output_type": "stream",
     "text": [
      "elma 100 kaloridir\n"
     ]
    }
   ],
   "source": [
    "bilgiAl(elma)"
   ]
  },
  {
   "cell_type": "code",
   "execution_count": 41,
   "id": "29f55c4c",
   "metadata": {},
   "outputs": [
    {
     "name": "stdout",
     "output_type": "stream",
     "text": [
      "muz 150 kaloridir\n"
     ]
    }
   ],
   "source": [
    "bilgiAl(muz)"
   ]
  },
  {
   "cell_type": "code",
   "execution_count": null,
   "id": "bd10db30",
   "metadata": {},
   "outputs": [],
   "source": []
  }
 ],
 "metadata": {
  "kernelspec": {
   "display_name": "Python 3",
   "language": "python",
   "name": "python3"
  },
  "language_info": {
   "codemirror_mode": {
    "name": "ipython",
    "version": 3
   },
   "file_extension": ".py",
   "mimetype": "text/x-python",
   "name": "python",
   "nbconvert_exporter": "python",
   "pygments_lexer": "ipython3",
   "version": "3.8.8"
  }
 },
 "nbformat": 4,
 "nbformat_minor": 5
}
