{
 "cells": [
  {
   "cell_type": "markdown",
   "id": "abc5ba47",
   "metadata": {},
   "source": [
    "# Operasyonlar"
   ]
  },
  {
   "cell_type": "code",
   "execution_count": 3,
   "id": "c368b033",
   "metadata": {},
   "outputs": [
    {
     "data": {
      "text/plain": [
       "5"
      ]
     },
     "execution_count": 3,
     "metadata": {},
     "output_type": "execute_result"
    }
   ],
   "source": [
    "import numpy as np\n",
    "benimDizim = np.arange(0,15)\n",
    "benimDizim\n",
    "benimDizim[5]"
   ]
  },
  {
   "cell_type": "code",
   "execution_count": 6,
   "id": "d08ab4d8",
   "metadata": {},
   "outputs": [
    {
     "data": {
      "text/plain": [
       "array([3, 4, 5, 6, 7])"
      ]
     },
     "execution_count": 6,
     "metadata": {},
     "output_type": "execute_result"
    }
   ],
   "source": [
    "benimDizim[3:8]"
   ]
  },
  {
   "cell_type": "markdown",
   "id": "165582ff",
   "metadata": {},
   "source": [
    "# 3'den 8'e kadar olan elemanları -5 ile değiştirdi.\n",
    "# bu eşitlik ile benimDizim değiştirilmiştir."
   ]
  },
  {
   "cell_type": "code",
   "execution_count": 24,
   "id": "da539342",
   "metadata": {},
   "outputs": [
    {
     "data": {
      "text/plain": [
       "array([ 0,  1,  2,  5,  5,  5,  5,  5,  8,  9, 10, 11, 12, 13, 14])"
      ]
     },
     "execution_count": 24,
     "metadata": {},
     "output_type": "execute_result"
    }
   ],
   "source": [
    "benimDizim[3:8]=5\n",
    "benimDizim"
   ]
  },
  {
   "cell_type": "markdown",
   "id": "3e5f998b",
   "metadata": {},
   "source": [
    "# Bu aralıktaki dizi bilgisini yeni bir dizi olarak\n",
    "## tanımlayabiliriz."
   ]
  },
  {
   "cell_type": "code",
   "execution_count": 25,
   "id": "a45edc7c",
   "metadata": {},
   "outputs": [
    {
     "data": {
      "text/plain": [
       "array([5, 5, 5, 5, 5])"
      ]
     },
     "execution_count": 25,
     "metadata": {},
     "output_type": "execute_result"
    }
   ],
   "source": [
    "yeniDizi=benimDizim[3:8]\n",
    "yeniDizi"
   ]
  },
  {
   "cell_type": "markdown",
   "id": "afc869d8",
   "metadata": {},
   "source": [
    "# Büyük diziden küçük dizi oluşturup içindeki elemanların hepsini 700 yapıyoruz\n",
    "# En önemli şey ise slicingDizi'ni değiştirmemiz üzerine baskaDizi de değişir"
   ]
  },
  {
   "cell_type": "code",
   "execution_count": 26,
   "id": "6e0bfe6f",
   "metadata": {},
   "outputs": [
    {
     "data": {
      "text/plain": [
       "array([700, 700, 700, 700, 700])"
      ]
     },
     "execution_count": 26,
     "metadata": {},
     "output_type": "execute_result"
    }
   ],
   "source": [
    "baskaDizi= np.arange(0,24)\n",
    "slicingDizisi=baskaDizi[4:9]\n",
    "slicingDizisi[:]=700\n",
    "slicingDizisi"
   ]
  },
  {
   "cell_type": "code",
   "execution_count": 27,
   "id": "a822c652",
   "metadata": {},
   "outputs": [
    {
     "data": {
      "text/plain": [
       "array([  0,   1,   2,   3, 700, 700, 700, 700, 700,   9,  10,  11,  12,\n",
       "        13,  14,  15,  16,  17,  18,  19,  20,  21,  22,  23])"
      ]
     },
     "execution_count": 27,
     "metadata": {},
     "output_type": "execute_result"
    }
   ],
   "source": [
    "baskaDizi"
   ]
  },
  {
   "cell_type": "markdown",
   "id": "c3efeaa4",
   "metadata": {},
   "source": [
    "# Oluşturulan slicingDizi üstündeki değişikliklerin asıl diziyi etkilememesi için copy methodu kullanılmalı\n"
   ]
  },
  {
   "cell_type": "code",
   "execution_count": 28,
   "id": "b36448d4",
   "metadata": {},
   "outputs": [
    {
     "data": {
      "text/plain": [
       "array([ 0,  1,  2,  3,  4,  5,  6,  7,  8,  9, 10, 11, 12, 13, 14, 15, 16,\n",
       "       17, 18, 19, 20, 21, 22, 23])"
      ]
     },
     "execution_count": 28,
     "metadata": {},
     "output_type": "execute_result"
    }
   ],
   "source": [
    "ornekDizi = np.arange(0,24)\n",
    "ornekDiziKopyasi=ornekDizi.copy()\n",
    "ornekDiziKopyaSlicing=ornekDiziKopyasi[3:6]\n",
    "ornekDiziKopyaSlicing[:]=800\n",
    "ornekDizi"
   ]
  },
  {
   "cell_type": "markdown",
   "id": "a39e13db",
   "metadata": {},
   "source": [
    "# Matrisler"
   ]
  },
  {
   "cell_type": "code",
   "execution_count": 29,
   "id": "d2414f28",
   "metadata": {},
   "outputs": [
    {
     "data": {
      "text/plain": [
       "array([[10, 20, 30],\n",
       "       [40, 50, 60],\n",
       "       [70, 80, 90]])"
      ]
     },
     "execution_count": 29,
     "metadata": {},
     "output_type": "execute_result"
    }
   ],
   "source": [
    "benimListem = [[10,20,30],[40,50,60],[70,80,90]]\n",
    "benimMatrixDizim= np.array(benimListem)\n",
    "benimMatrixDizim"
   ]
  },
  {
   "cell_type": "code",
   "execution_count": 30,
   "id": "fe3dd555",
   "metadata": {},
   "outputs": [
    {
     "data": {
      "text/plain": [
       "array([10, 20, 30])"
      ]
     },
     "execution_count": 30,
     "metadata": {},
     "output_type": "execute_result"
    }
   ],
   "source": [
    "benimMatrixDizim[0]"
   ]
  },
  {
   "cell_type": "code",
   "execution_count": 31,
   "id": "cf7b6c1c",
   "metadata": {},
   "outputs": [
    {
     "data": {
      "text/plain": [
       "60"
      ]
     },
     "execution_count": 31,
     "metadata": {},
     "output_type": "execute_result"
    }
   ],
   "source": [
    "benimMatrixDizim[1][2]"
   ]
  },
  {
   "cell_type": "code",
   "execution_count": 33,
   "id": "95097422",
   "metadata": {},
   "outputs": [
    {
     "data": {
      "text/plain": [
       "60"
      ]
     },
     "execution_count": 33,
     "metadata": {},
     "output_type": "execute_result"
    }
   ],
   "source": [
    "# bu gösterim ile yukarıdaki gösterim aynıdır\n",
    "benimMatrixDizim[1,2]"
   ]
  },
  {
   "cell_type": "markdown",
   "id": "3471fe95",
   "metadata": {},
   "source": [
    "# 0. satırdan başla, 2. sütundakileri yazdır demektir"
   ]
  },
  {
   "cell_type": "code",
   "execution_count": 46,
   "id": "9f120e26",
   "metadata": {},
   "outputs": [
    {
     "data": {
      "text/plain": [
       "array([30, 60, 90])"
      ]
     },
     "execution_count": 46,
     "metadata": {},
     "output_type": "execute_result"
    }
   ],
   "source": [
    "benimMatrixDizim[0: , 2]"
   ]
  },
  {
   "cell_type": "markdown",
   "id": "1882ecad",
   "metadata": {},
   "source": [
    "# 2. sütunu bastır demektir"
   ]
  },
  {
   "cell_type": "code",
   "execution_count": 47,
   "id": "be2df130",
   "metadata": {},
   "outputs": [
    {
     "data": {
      "text/plain": [
       "array([20, 50, 80])"
      ]
     },
     "execution_count": 47,
     "metadata": {},
     "output_type": "execute_result"
    }
   ],
   "source": [
    "benimMatrixDizim[0: , 1]"
   ]
  },
  {
   "cell_type": "markdown",
   "id": "c09e6ad3",
   "metadata": {},
   "source": [
    "# 0. satırdan başla ve sona kadar git, 1. sütundan başla sona kadar git demektir"
   ]
  },
  {
   "cell_type": "code",
   "execution_count": 48,
   "id": "fa96bcc8",
   "metadata": {},
   "outputs": [
    {
     "data": {
      "text/plain": [
       "array([[70, 80, 90]])"
      ]
     },
     "execution_count": 48,
     "metadata": {},
     "output_type": "execute_result"
    }
   ],
   "source": [
    "benimMatrixDizim[ 2: , 0:]"
   ]
  },
  {
   "cell_type": "markdown",
   "id": "651696b7",
   "metadata": {},
   "source": [
    "# Deneme"
   ]
  },
  {
   "cell_type": "code",
   "execution_count": null,
   "id": "51f3af01",
   "metadata": {},
   "outputs": [],
   "source": [
    "yeniListe=range(0,20)\n",
    "\n",
    "for i in range(0,5)"
   ]
  }
 ],
 "metadata": {
  "kernelspec": {
   "display_name": "Python 3",
   "language": "python",
   "name": "python3"
  },
  "language_info": {
   "codemirror_mode": {
    "name": "ipython",
    "version": 3
   },
   "file_extension": ".py",
   "mimetype": "text/x-python",
   "name": "python",
   "nbconvert_exporter": "python",
   "pygments_lexer": "ipython3",
   "version": "3.8.8"
  }
 },
 "nbformat": 4,
 "nbformat_minor": 5
}
