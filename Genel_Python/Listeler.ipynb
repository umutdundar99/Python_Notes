{
 "cells": [
  {
   "cell_type": "markdown",
   "id": "08a01aaa",
   "metadata": {},
   "source": [
    "# Stringler"
   ]
  },
  {
   "cell_type": "markdown",
   "id": "4f5318eb",
   "metadata": {},
   "source": [
    "Stringlerdeki indexler değiştirilemez"
   ]
  },
  {
   "cell_type": "code",
   "execution_count": null,
   "id": "c6edb1f3",
   "metadata": {},
   "outputs": [],
   "source": [
    "string= \"Umut Dündar\""
   ]
  },
  {
   "cell_type": "markdown",
   "id": "cdd63085",
   "metadata": {},
   "source": [
    "# Listeler"
   ]
  },
  {
   "cell_type": "code",
   "execution_count": null,
   "id": "cbdcbc05",
   "metadata": {},
   "outputs": [],
   "source": [
    "listem=[10,20,30,40]"
   ]
  },
  {
   "cell_type": "code",
   "execution_count": 4,
   "id": "85d8ffe2",
   "metadata": {},
   "outputs": [
    {
     "data": {
      "text/plain": [
       "[5, 5]"
      ]
     },
     "execution_count": 4,
     "metadata": {},
     "output_type": "execute_result"
    }
   ],
   "source": [
    "x=5\n",
    "y=5\n",
    "z=[x,y]\n",
    "z"
   ]
  },
  {
   "cell_type": "markdown",
   "id": "ccee23dd",
   "metadata": {},
   "source": [
    "Append Komutu Sona Sayı Ekler"
   ]
  },
  {
   "cell_type": "code",
   "execution_count": 6,
   "id": "0b431fb5",
   "metadata": {},
   "outputs": [
    {
     "data": {
      "text/plain": [
       "[10, 20, 30, 40, 15]"
      ]
     },
     "execution_count": 6,
     "metadata": {},
     "output_type": "execute_result"
    }
   ],
   "source": [
    "listem=[10,20,30,40]\n",
    "listem.append(15)\n",
    "listem"
   ]
  },
  {
   "cell_type": "markdown",
   "id": "cce75d3c",
   "metadata": {},
   "source": [
    "Pop komutu sondaki elemanı siler, içine index numarası verilirse onu siler"
   ]
  },
  {
   "cell_type": "code",
   "execution_count": 14,
   "id": "728b6c8a",
   "metadata": {},
   "outputs": [
    {
     "data": {
      "text/plain": [
       "[10, 30, 40]"
      ]
     },
     "execution_count": 14,
     "metadata": {},
     "output_type": "execute_result"
    }
   ],
   "source": [
    "listem=[10,20,30,40]\n",
    "listem.pop(1)\n",
    "listem"
   ]
  },
  {
   "cell_type": "markdown",
   "id": "a53447d7",
   "metadata": {},
   "source": [
    "Remove komutu belirlenen elemanı siler, direkt eleman ismi yazılır"
   ]
  },
  {
   "cell_type": "code",
   "execution_count": 11,
   "id": "f332dfed",
   "metadata": {},
   "outputs": [
    {
     "data": {
      "text/plain": [
       "[20, 30, 40]"
      ]
     },
     "execution_count": 11,
     "metadata": {},
     "output_type": "execute_result"
    }
   ],
   "source": [
    "listem=[10,20,30,40]\n",
    "listem.remove(10)\n",
    "listem"
   ]
  },
  {
   "cell_type": "markdown",
   "id": "2eea9440",
   "metadata": {},
   "source": [
    "Count komutu fonksiyon içindeki elemandan kaç tane olduğunu sayar"
   ]
  },
  {
   "cell_type": "code",
   "execution_count": 13,
   "id": "96bdfc4e",
   "metadata": {},
   "outputs": [
    {
     "data": {
      "text/plain": [
       "2"
      ]
     },
     "execution_count": 13,
     "metadata": {},
     "output_type": "execute_result"
    }
   ],
   "source": [
    "listem=[10,20,30,40,10]\n",
    "listem.count(10)"
   ]
  },
  {
   "cell_type": "markdown",
   "id": "dfc57971",
   "metadata": {},
   "source": [
    "Reverse komutu listeyi ters çevirir"
   ]
  },
  {
   "cell_type": "markdown",
   "id": "71ec78c8",
   "metadata": {},
   "source": [
    "# Nested List ( iç içe liste)"
   ]
  },
  {
   "cell_type": "code",
   "execution_count": 15,
   "id": "2b9287f0",
   "metadata": {},
   "outputs": [],
   "source": [
    "nestedList = [1.5,\"umut\",4,[6,\"z\"]]"
   ]
  },
  {
   "cell_type": "code",
   "execution_count": 17,
   "id": "858af456",
   "metadata": {},
   "outputs": [
    {
     "data": {
      "text/plain": [
       "list"
      ]
     },
     "execution_count": 17,
     "metadata": {},
     "output_type": "execute_result"
    }
   ],
   "source": [
    "type(nestedList[3])"
   ]
  },
  {
   "cell_type": "code",
   "execution_count": null,
   "id": "b98416a5",
   "metadata": {},
   "outputs": [],
   "source": []
  }
 ],
 "metadata": {
  "kernelspec": {
   "display_name": "Python 3",
   "language": "python",
   "name": "python3"
  },
  "language_info": {
   "codemirror_mode": {
    "name": "ipython",
    "version": 3
   },
   "file_extension": ".py",
   "mimetype": "text/x-python",
   "name": "python",
   "nbconvert_exporter": "python",
   "pygments_lexer": "ipython3",
   "version": "3.8.8"
  }
 },
 "nbformat": 4,
 "nbformat_minor": 5
}
