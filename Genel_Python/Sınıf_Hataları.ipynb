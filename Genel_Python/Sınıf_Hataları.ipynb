{
 "cells": [
  {
   "cell_type": "code",
   "execution_count": 5,
   "id": "c84c1bdf",
   "metadata": {},
   "outputs": [
    {
     "name": "stdout",
     "output_type": "stream",
     "text": [
      "Numaranızı giriniz:sdf\n",
      "Lütfen sadece bir sayı giriniz\n",
      "Numaranızı giriniz:16\n",
      "Teşekkürler\n"
     ]
    }
   ],
   "source": [
    "while True:\n",
    "    try:\n",
    "        benimInt = int(input(\"Numaranızı giriniz:\"))\n",
    "    except:\n",
    "        print(\"Lütfen sadece bir sayı giriniz\")\n",
    "        continue\n",
    "    else: \n",
    "        print(\"Teşekkürler\")\n",
    "        break\n",
    "    finally:\n",
    "        print(\"finally çağırıldı\")"
   ]
  },
  {
   "cell_type": "markdown",
   "id": "a78b1e87",
   "metadata": {},
   "source": [
    "# Finally döngü içinde olduğumuz sürece break veya continue komutuna rağmen her zaman çağrılır"
   ]
  }
 ],
 "metadata": {
  "kernelspec": {
   "display_name": "Python 3",
   "language": "python",
   "name": "python3"
  },
  "language_info": {
   "codemirror_mode": {
    "name": "ipython",
    "version": 3
   },
   "file_extension": ".py",
   "mimetype": "text/x-python",
   "name": "python",
   "nbconvert_exporter": "python",
   "pygments_lexer": "ipython3",
   "version": "3.8.8"
  }
 },
 "nbformat": 4,
 "nbformat_minor": 5
}
