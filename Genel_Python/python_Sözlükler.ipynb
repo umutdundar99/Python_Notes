{
 "cells": [
  {
   "cell_type": "markdown",
   "id": "f2127374",
   "metadata": {},
   "source": [
    "# Sözlükler Konusu\n"
   ]
  },
  {
   "cell_type": "markdown",
   "id": "90e620aa",
   "metadata": {},
   "source": [
    "# key-value pairing ( anahtar kelime - değer eşleşmesi )\n"
   ]
  },
  {
   "cell_type": "code",
   "execution_count": 6,
   "id": "8e5cc8dd",
   "metadata": {},
   "outputs": [
    {
     "data": {
      "text/plain": [
       "200"
      ]
     },
     "execution_count": 6,
     "metadata": {},
     "output_type": "execute_result"
    }
   ],
   "source": [
    "eslesme= {\"Elma\":200,\"Karpuz\":250}\n",
    "eslesme[\"Elma\"]"
   ]
  },
  {
   "cell_type": "markdown",
   "id": "82388b68",
   "metadata": {},
   "source": [
    "# Sözlükteki bilgiyi değiştirme"
   ]
  },
  {
   "cell_type": "code",
   "execution_count": 7,
   "id": "2c0b86ef",
   "metadata": {},
   "outputs": [
    {
     "data": {
      "text/plain": [
       "{'Elma': 350, 'Karpuz': 250}"
      ]
     },
     "execution_count": 7,
     "metadata": {},
     "output_type": "execute_result"
    }
   ],
   "source": [
    "eslesme[\"Elma\"]=350\n",
    "eslesme"
   ]
  },
  {
   "cell_type": "markdown",
   "id": "d1f5f83e",
   "metadata": {},
   "source": [
    "# Ornek"
   ]
  },
  {
   "cell_type": "code",
   "execution_count": 11,
   "id": "c93d887a",
   "metadata": {},
   "outputs": [
    {
     "data": {
      "text/plain": [
       "'ankara'"
      ]
     },
     "execution_count": 11,
     "metadata": {},
     "output_type": "execute_result"
    }
   ],
   "source": [
    "degerler= {6:\"ankara\",34:\"istanbul\",58:\"sivas\"}\n",
    "degerler[6]"
   ]
  },
  {
   "cell_type": "markdown",
   "id": "53067997",
   "metadata": {},
   "source": [
    "# Keys and Values Fonksiyonları"
   ]
  },
  {
   "cell_type": "code",
   "execution_count": 13,
   "id": "c0351044",
   "metadata": {},
   "outputs": [
    {
     "data": {
      "text/plain": [
       "dict_keys([6, 34, 58])"
      ]
     },
     "execution_count": 13,
     "metadata": {},
     "output_type": "execute_result"
    }
   ],
   "source": [
    "degerler= {6:\"ankara\",34:\"istanbul\",58:\"sivas\"}\n",
    "degerler.keys()"
   ]
  },
  {
   "cell_type": "code",
   "execution_count": 14,
   "id": "84eca4b4",
   "metadata": {},
   "outputs": [
    {
     "data": {
      "text/plain": [
       "dict_values(['ankara', 'istanbul', 'sivas'])"
      ]
     },
     "execution_count": 14,
     "metadata": {},
     "output_type": "execute_result"
    }
   ],
   "source": [
    "degerler.values()"
   ]
  },
  {
   "cell_type": "markdown",
   "id": "a568f0d5",
   "metadata": {},
   "source": [
    "# @@ SETLER @@"
   ]
  },
  {
   "cell_type": "code",
   "execution_count": null,
   "id": "bd0dbe30",
   "metadata": {},
   "outputs": [],
   "source": []
  }
 ],
 "metadata": {
  "kernelspec": {
   "display_name": "Python 3",
   "language": "python",
   "name": "python3"
  },
  "language_info": {
   "codemirror_mode": {
    "name": "ipython",
    "version": 3
   },
   "file_extension": ".py",
   "mimetype": "text/x-python",
   "name": "python",
   "nbconvert_exporter": "python",
   "pygments_lexer": "ipython3",
   "version": "3.8.8"
  }
 },
 "nbformat": 4,
 "nbformat_minor": 5
}
