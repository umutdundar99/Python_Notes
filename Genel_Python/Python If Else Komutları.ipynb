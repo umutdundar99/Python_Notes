{
 "cells": [
  {
   "cell_type": "markdown",
   "id": "a216dfeb",
   "metadata": {},
   "source": [
    "# If Else Konusu"
   ]
  },
  {
   "cell_type": "markdown",
   "id": "c26b3b07",
   "metadata": {},
   "source": [
    "# Boşlukların önemi"
   ]
  },
  {
   "cell_type": "code",
   "execution_count": 3,
   "id": "5de998b7",
   "metadata": {},
   "outputs": [
    {
     "ename": "NameError",
     "evalue": "name 'birinci' is not defined",
     "output_type": "error",
     "traceback": [
      "\u001b[1;31m---------------------------------------------------------------------------\u001b[0m",
      "\u001b[1;31mNameError\u001b[0m                                 Traceback (most recent call last)",
      "\u001b[1;32m<ipython-input-3-b6f020d3dc35>\u001b[0m in \u001b[0;36m<module>\u001b[1;34m\u001b[0m\n\u001b[1;32m----> 1\u001b[1;33m \u001b[0mbirinci\u001b[0m\u001b[1;33m.\u001b[0m\u001b[0msayi\u001b[0m\u001b[1;33m=\u001b[0m\u001b[1;36m1\u001b[0m\u001b[1;33m\u001b[0m\u001b[1;33m\u001b[0m\u001b[0m\n\u001b[0m\u001b[0;32m      2\u001b[0m \u001b[1;32mif\u001b[0m \u001b[1;36m3\u001b[0m\u001b[1;33m>\u001b[0m\u001b[1;36m1\u001b[0m\u001b[1;33m:\u001b[0m\u001b[1;33m\u001b[0m\u001b[1;33m\u001b[0m\u001b[0m\n\u001b[0;32m      3\u001b[0m     \u001b[0mprint\u001b[0m\u001b[1;33m(\u001b[0m\u001b[1;34m\"Umut Dündar\"\u001b[0m\u001b[1;33m)\u001b[0m\u001b[1;33m\u001b[0m\u001b[1;33m\u001b[0m\u001b[0m\n\u001b[0;32m      4\u001b[0m \u001b[0mprint\u001b[0m\u001b[1;33m(\u001b[0m\u001b[1;34m\"If koşulunun dışına çıkıldı.\"\u001b[0m\u001b[1;33m)\u001b[0m\u001b[1;33m\u001b[0m\u001b[1;33m\u001b[0m\u001b[0m\n",
      "\u001b[1;31mNameError\u001b[0m: name 'birinci' is not defined"
     ]
    }
   ],
   "source": [
    "if 3>1:\n",
    "    print(\"Umut Dündar\")\n",
    "print(\"If koşulunun dışına çıkıldı.\")"
   ]
  },
  {
   "cell_type": "markdown",
   "id": "23a83f98",
   "metadata": {},
   "source": [
    "# Elif Kullanımı"
   ]
  },
  {
   "cell_type": "code",
   "execution_count": 5,
   "id": "356e81b8",
   "metadata": {},
   "outputs": [
    {
     "name": "stdout",
     "output_type": "stream",
     "text": [
      "y,x'den daha küçüktür\n"
     ]
    }
   ],
   "source": [
    "x=3\n",
    "y=4\n",
    "if x>y:\n",
    "    print(\"X, y'den daha büyüktür\")\n",
    "elif y>x:\n",
    "    print(\"y,x'den daha küçüktür\")"
   ]
  },
  {
   "cell_type": "markdown",
   "id": "4e19812e",
   "metadata": {},
   "source": [
    "# Eşitlik Koymadan If yazma"
   ]
  },
  {
   "cell_type": "code",
   "execution_count": 13,
   "id": "116276de",
   "metadata": {},
   "outputs": [
    {
     "name": "stdout",
     "output_type": "stream",
     "text": [
      "karakter canli\n"
     ]
    }
   ],
   "source": [
    "karakterCanli = True\n",
    "if karakterCanli:\n",
    "    print(\"karakter canli\")\n",
    "else:\n",
    "    print(\"karakter canli degil\")"
   ]
  },
  {
   "cell_type": "code",
   "execution_count": 15,
   "id": "e82b7957",
   "metadata": {},
   "outputs": [
    {
     "name": "stdout",
     "output_type": "stream",
     "text": [
      "karakter canli\n"
     ]
    }
   ],
   "source": [
    "karakterCanli = True\n",
    "if not karakterCanli:\n",
    "    print(\"karakter ölü\")\n",
    "else:\n",
    "    print(\"karakter canli\")"
   ]
  },
  {
   "cell_type": "markdown",
   "id": "aee1cd68",
   "metadata": {},
   "source": [
    "# IN KULLANIMI"
   ]
  },
  {
   "cell_type": "markdown",
   "id": "6124e18f",
   "metadata": {},
   "source": [
    "eğer benimString içerisinde \"Dündar\" varsa bunu yap der. Kelimenin tamamı olmak zorunda değil."
   ]
  },
  {
   "cell_type": "code",
   "execution_count": 17,
   "id": "ec81cfeb",
   "metadata": {},
   "outputs": [
    {
     "name": "stdout",
     "output_type": "stream",
     "text": [
      "varmış\n"
     ]
    }
   ],
   "source": [
    "benimString=\"Umut Dündar\"\n",
    "if \"Dünda\" in benimString:\n",
    "    print(\"varmış\")\n",
    "else:\n",
    "    print(\"yokmuş\")"
   ]
  },
  {
   "cell_type": "code",
   "execution_count": 18,
   "id": "d06586da",
   "metadata": {},
   "outputs": [
    {
     "name": "stdout",
     "output_type": "stream",
     "text": [
      "evet var\n"
     ]
    }
   ],
   "source": [
    "listem= [10,20,30,40,50]\n",
    "if 10 in listem:\n",
    "    print(\"evet var\")"
   ]
  },
  {
   "cell_type": "code",
   "execution_count": 19,
   "id": "694493df",
   "metadata": {},
   "outputs": [
    {
     "name": "stdout",
     "output_type": "stream",
     "text": [
      "varmış\n"
     ]
    }
   ],
   "source": [
    "sozlugum={\"muz\":150,\"elma\":250,\"karpuz\":500}\n",
    "if \"muz\" in sozlugum.keys():\n",
    "    print(\"varmış\")"
   ]
  },
  {
   "cell_type": "code",
   "execution_count": null,
   "id": "f205d27b",
   "metadata": {},
   "outputs": [],
   "source": []
  }
 ],
 "metadata": {
  "kernelspec": {
   "display_name": "Python 3",
   "language": "python",
   "name": "python3"
  },
  "language_info": {
   "codemirror_mode": {
    "name": "ipython",
    "version": 3
   },
   "file_extension": ".py",
   "mimetype": "text/x-python",
   "name": "python",
   "nbconvert_exporter": "python",
   "pygments_lexer": "ipython3",
   "version": "3.8.8"
  }
 },
 "nbformat": 4,
 "nbformat_minor": 5
}
