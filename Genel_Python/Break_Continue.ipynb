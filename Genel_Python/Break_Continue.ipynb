{
 "cells": [
  {
   "cell_type": "markdown",
   "id": "11a85ed8",
   "metadata": {},
   "source": [
    "# BREAK CONTINUE\n"
   ]
  },
  {
   "cell_type": "code",
   "execution_count": 1,
   "id": "dcce4a11",
   "metadata": {},
   "outputs": [],
   "source": [
    "listem= [5,10,15,20,25,30]"
   ]
  },
  {
   "cell_type": "markdown",
   "id": "7a2cabae",
   "metadata": {},
   "source": [
    "# Belli bir koşulda döngüyü bitirmek için\n",
    "# Break komutu kullanılır"
   ]
  },
  {
   "cell_type": "code",
   "execution_count": 2,
   "id": "bff295e5",
   "metadata": {},
   "outputs": [
    {
     "name": "stdout",
     "output_type": "stream",
     "text": [
      "5\n",
      "10\n"
     ]
    }
   ],
   "source": [
    "for numara in listem:\n",
    "    if numara == 15:\n",
    "        break\n",
    "    print(numara)"
   ]
  },
  {
   "cell_type": "markdown",
   "id": "0bb7c216",
   "metadata": {},
   "source": [
    "# Belli bir değeri gördüğünde direkt olarak\n",
    "# başa dönmek için Continue komutu kullanılır.\n"
   ]
  },
  {
   "cell_type": "code",
   "execution_count": 4,
   "id": "8becebf1",
   "metadata": {},
   "outputs": [
    {
     "name": "stdout",
     "output_type": "stream",
     "text": [
      "5\n",
      "10\n",
      "20\n",
      "25\n",
      "30\n"
     ]
    }
   ],
   "source": [
    "for numara in listem:\n",
    "    if numara == 15:\n",
    "        continue\n",
    "    print(numara)"
   ]
  },
  {
   "cell_type": "markdown",
   "id": "8243bcdb",
   "metadata": {},
   "source": [
    "# Şu anlık boş bırakmak istiyorsak ve tam karar veremediysek pass komutu kullanılır."
   ]
  },
  {
   "cell_type": "code",
   "execution_count": 6,
   "id": "5b35d86c",
   "metadata": {},
   "outputs": [],
   "source": [
    "for numara in listem:\n",
    "    pass"
   ]
  },
  {
   "cell_type": "code",
   "execution_count": null,
   "id": "e2d89242",
   "metadata": {},
   "outputs": [],
   "source": []
  }
 ],
 "metadata": {
  "kernelspec": {
   "display_name": "Python 3",
   "language": "python",
   "name": "python3"
  },
  "language_info": {
   "codemirror_mode": {
    "name": "ipython",
    "version": 3
   },
   "file_extension": ".py",
   "mimetype": "text/x-python",
   "name": "python",
   "nbconvert_exporter": "python",
   "pygments_lexer": "ipython3",
   "version": "3.8.8"
  }
 },
 "nbformat": 4,
 "nbformat_minor": 5
}
