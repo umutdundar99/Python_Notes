{
 "cells": [
  {
   "cell_type": "markdown",
   "id": "62b6cbed",
   "metadata": {},
   "source": [
    "# Fonksiyonlar ve Metodlar"
   ]
  },
  {
   "cell_type": "markdown",
   "id": "887c1a19",
   "metadata": {},
   "source": [
    "# Metod sonrası elde edilen çıktıyı bir şeye eşitlemezsek\n",
    "# asıl bilgi değişmez."
   ]
  },
  {
   "cell_type": "code",
   "execution_count": 3,
   "id": "d427eb38",
   "metadata": {},
   "outputs": [
    {
     "data": {
      "text/plain": [
       "'UMUT DÜNDAR'"
      ]
     },
     "execution_count": 3,
     "metadata": {},
     "output_type": "execute_result"
    }
   ],
   "source": [
    "Adim=\"Umut Dündar\"\n",
    "Adim.upper()"
   ]
  },
  {
   "cell_type": "code",
   "execution_count": 4,
   "id": "34a5c5e5",
   "metadata": {},
   "outputs": [
    {
     "data": {
      "text/plain": [
       "'Umut Dündar'"
      ]
     },
     "execution_count": 4,
     "metadata": {},
     "output_type": "execute_result"
    }
   ],
   "source": [
    "Adim"
   ]
  },
  {
   "cell_type": "markdown",
   "id": "21a8febd",
   "metadata": {},
   "source": [
    "Metodlar hakkında genel bilgi için aşağıdaki kod kullanılabilir."
   ]
  },
  {
   "cell_type": "code",
   "execution_count": 6,
   "id": "aeefb436",
   "metadata": {},
   "outputs": [
    {
     "name": "stdout",
     "output_type": "stream",
     "text": [
      "Help on built-in function upper:\n",
      "\n",
      "upper() method of builtins.str instance\n",
      "    Return a copy of the string converted to uppercase.\n",
      "\n"
     ]
    }
   ],
   "source": [
    "help(Adim.upper)"
   ]
  },
  {
   "cell_type": "markdown",
   "id": "50ed6eda",
   "metadata": {},
   "source": [
    "# Fonksiyon Tanımlama"
   ]
  },
  {
   "cell_type": "code",
   "execution_count": 7,
   "id": "e29dfbf1",
   "metadata": {},
   "outputs": [],
   "source": [
    "def ilkFonksiyon():\n",
    "    print(\"ilk fonksiyonum\")"
   ]
  },
  {
   "cell_type": "code",
   "execution_count": 8,
   "id": "be982f01",
   "metadata": {},
   "outputs": [
    {
     "name": "stdout",
     "output_type": "stream",
     "text": [
      "merhaba\n",
      "python\n"
     ]
    }
   ],
   "source": [
    "def merhaba(isim=\"atıl\"):\n",
    "    print(\"merhaba\")\n",
    "    print(isim)\n",
    "merhaba(\"python\")"
   ]
  },
  {
   "cell_type": "code",
   "execution_count": 9,
   "id": "4e1f0ce2",
   "metadata": {},
   "outputs": [
    {
     "name": "stdout",
     "output_type": "stream",
     "text": [
      "merhaba\n",
      "slk\n"
     ]
    }
   ],
   "source": [
    "def merhabaDunya(yazdirilacak):\n",
    "    print(\"merhaba\")\n",
    "    print(yazdirilacak)\n",
    "merhabaDunya(\"slk\")"
   ]
  },
  {
   "cell_type": "markdown",
   "id": "d12f4399",
   "metadata": {},
   "source": [
    "# Return Kullanma"
   ]
  },
  {
   "cell_type": "code",
   "execution_count": 10,
   "id": "3bd72281",
   "metadata": {},
   "outputs": [
    {
     "data": {
      "text/plain": [
       "15"
      ]
     },
     "execution_count": 10,
     "metadata": {},
     "output_type": "execute_result"
    }
   ],
   "source": [
    "def dondurmeliToplama(num1,num2):\n",
    "    return num1+num2\n",
    "yeniSonuc=dondurmeliToplama(5,10)\n",
    "yeniSonuc"
   ]
  },
  {
   "cell_type": "markdown",
   "id": "89aad6cf",
   "metadata": {},
   "source": [
    "# args& kwargs"
   ]
  },
  {
   "cell_type": "markdown",
   "id": "e4d5c20f",
   "metadata": {},
   "source": [
    "# Fonksiyonun kaç tane argüman alacağı belli olmadığında ( kaç sayıyı toplayacağını bilmediğimizde)\n",
    "# bu özellik kullanılmalıdır."
   ]
  },
  {
   "cell_type": "code",
   "execution_count": 12,
   "id": "8f67ec4a",
   "metadata": {},
   "outputs": [],
   "source": [
    "def yeniToplama(*args):\n",
    "    return sum(args)"
   ]
  },
  {
   "cell_type": "code",
   "execution_count": 13,
   "id": "306705d6",
   "metadata": {},
   "outputs": [
    {
     "data": {
      "text/plain": [
       "100"
      ]
     },
     "execution_count": 13,
     "metadata": {},
     "output_type": "execute_result"
    }
   ],
   "source": [
    "yeniToplama(10,20,30,40)"
   ]
  },
  {
   "cell_type": "markdown",
   "id": "80b916de",
   "metadata": {},
   "source": [
    "# Bu fonksiyon return edilirse type=tuple olur"
   ]
  },
  {
   "cell_type": "code",
   "execution_count": 14,
   "id": "42fac370",
   "metadata": {},
   "outputs": [
    {
     "data": {
      "text/plain": [
       "tuple"
      ]
     },
     "execution_count": 14,
     "metadata": {},
     "output_type": "execute_result"
    }
   ],
   "source": [
    "def yeniToplama(*args):\n",
    "    return args\n",
    "type(yeniToplama(5,10))"
   ]
  },
  {
   "cell_type": "markdown",
   "id": "8f4b9bc2",
   "metadata": {},
   "source": [
    "# Kwargs(keyword) kullanımı"
   ]
  },
  {
   "cell_type": "code",
   "execution_count": 15,
   "id": "810ae174",
   "metadata": {},
   "outputs": [
    {
     "data": {
      "text/plain": [
       "dict"
      ]
     },
     "execution_count": 15,
     "metadata": {},
     "output_type": "execute_result"
    }
   ],
   "source": [
    "def ornekFonksiyon(**kwargs):\n",
    "    return(kwargs)\n",
    "type(ornekFonksiyon(muz=100, elma=200,ananas=300))"
   ]
  },
  {
   "cell_type": "code",
   "execution_count": 18,
   "id": "4a518e55",
   "metadata": {},
   "outputs": [],
   "source": [
    "def keyword(**kwargs):\n",
    "    if \"atıl\" in kwargs:\n",
    "        print(\"atıl var\")\n",
    "    else:\n",
    "        print(\"atıl yok\")"
   ]
  },
  {
   "cell_type": "code",
   "execution_count": 20,
   "id": "21ee4baf",
   "metadata": {},
   "outputs": [
    {
     "name": "stdout",
     "output_type": "stream",
     "text": [
      "atıl yok\n"
     ]
    }
   ],
   "source": [
    "keyword(umut=20)"
   ]
  },
  {
   "cell_type": "code",
   "execution_count": null,
   "id": "cde0cc1e",
   "metadata": {},
   "outputs": [],
   "source": []
  }
 ],
 "metadata": {
  "kernelspec": {
   "display_name": "Python 3",
   "language": "python",
   "name": "python3"
  },
  "language_info": {
   "codemirror_mode": {
    "name": "ipython",
    "version": 3
   },
   "file_extension": ".py",
   "mimetype": "text/x-python",
   "name": "python",
   "nbconvert_exporter": "python",
   "pygments_lexer": "ipython3",
   "version": "3.8.8"
  }
 },
 "nbformat": 4,
 "nbformat_minor": 5
}
