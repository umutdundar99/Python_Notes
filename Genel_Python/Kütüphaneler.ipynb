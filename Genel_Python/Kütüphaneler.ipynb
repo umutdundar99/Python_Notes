{
 "cells": [
  {
   "cell_type": "code",
   "execution_count": 1,
   "id": "8c1677ad",
   "metadata": {},
   "outputs": [],
   "source": [
    "import numpy as np\n",
    "import matplotlib.pyplot as matplot"
   ]
  },
  {
   "cell_type": "code",
   "execution_count": 2,
   "id": "c78e23c8",
   "metadata": {},
   "outputs": [],
   "source": [
    "maasListesi = np.random.normal(4000,500,1000) \n",
    "# normal distribusyonda numpy kütüphanesinin random methodu kullanılıyor.\n",
    "# 4000 lira civarında, 500 standart sapmalı 1000 veri oluşturacak."
   ]
  },
  {
   "cell_type": "code",
   "execution_count": 4,
   "id": "2de63e0a",
   "metadata": {},
   "outputs": [
    {
     "data": {
      "text/plain": [
       "3970.0929887328407"
      ]
     },
     "execution_count": 4,
     "metadata": {},
     "output_type": "execute_result"
    }
   ],
   "source": [
    "np.mean(maasListesi)"
   ]
  },
  {
   "cell_type": "code",
   "execution_count": 5,
   "id": "1e2209f5",
   "metadata": {},
   "outputs": [
    {
     "data": {
      "text/plain": [
       "(array([ 1.,  0.,  1.,  0.,  0.,  2.,  3.,  0.,  1.,  0.,  3.,  5.,  7.,\n",
       "        10., 13.,  9., 20., 19., 30., 41., 35., 45., 53., 42., 54., 55.,\n",
       "        69., 68., 52., 59., 45., 38., 42., 31., 26., 31., 21., 18., 11.,\n",
       "        14., 10.,  2.,  7.,  1.,  0.,  3.,  0.,  2.,  0.,  1.]),\n",
       " array([2097.99196944, 2168.09908789, 2238.20620634, 2308.3133248 ,\n",
       "        2378.42044325, 2448.5275617 , 2518.63468015, 2588.7417986 ,\n",
       "        2658.84891706, 2728.95603551, 2799.06315396, 2869.17027241,\n",
       "        2939.27739087, 3009.38450932, 3079.49162777, 3149.59874622,\n",
       "        3219.70586468, 3289.81298313, 3359.92010158, 3430.02722003,\n",
       "        3500.13433848, 3570.24145694, 3640.34857539, 3710.45569384,\n",
       "        3780.56281229, 3850.66993075, 3920.7770492 , 3990.88416765,\n",
       "        4060.9912861 , 4131.09840456, 4201.20552301, 4271.31264146,\n",
       "        4341.41975991, 4411.52687836, 4481.63399682, 4551.74111527,\n",
       "        4621.84823372, 4691.95535217, 4762.06247063, 4832.16958908,\n",
       "        4902.27670753, 4972.38382598, 5042.49094444, 5112.59806289,\n",
       "        5182.70518134, 5252.81229979, 5322.91941824, 5393.0265367 ,\n",
       "        5463.13365515, 5533.2407736 , 5603.34789205]),\n",
       " <BarContainer object of 50 artists>)"
      ]
     },
     "execution_count": 5,
     "metadata": {},
     "output_type": "execute_result"
    },
    {
     "data": {
      "image/png": "[encoded data removed]",
      "text/plain": [
       "<Figure size 432x288 with 1 Axes>"
      ]
     },
     "metadata": {
      "needs_background": "light"
     },
     "output_type": "display_data"
    }
   ],
   "source": [
    "matplot.hist(maasListesi,50) # 50 tane histogram yapacak"
   ]
  },
  {
   "cell_type": "code",
   "execution_count": null,
   "id": "023b303a",
   "metadata": {},
   "outputs": [],
   "source": []
  }
 ],
 "metadata": {
  "kernelspec": {
   "display_name": "Python 3",
   "language": "python",
   "name": "python3"
  },
  "language_info": {
   "codemirror_mode": {
    "name": "ipython",
    "version": 3
   },
   "file_extension": ".py",
   "mimetype": "text/x-python",
   "name": "python",
   "nbconvert_exporter": "python",
   "pygments_lexer": "ipython3",
   "version": "3.8.8"
  }
 },
 "nbformat": 4,
 "nbformat_minor": 5
}
