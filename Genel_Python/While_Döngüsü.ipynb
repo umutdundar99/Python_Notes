{
 "cells": [
  {
   "cell_type": "markdown",
   "id": "14411f20",
   "metadata": {},
   "source": [
    "# Bir koşul tuttuğun sürece devam etmek için while kullanılır"
   ]
  },
  {
   "cell_type": "code",
   "execution_count": 6,
   "id": "0af26783",
   "metadata": {},
   "outputs": [
    {
     "name": "stdout",
     "output_type": "stream",
     "text": [
      "0\n",
      "1\n",
      "2\n",
      "3\n"
     ]
    }
   ],
   "source": [
    "x=0\n",
    "while x<4:\n",
    "    print(x)\n",
    "    x=x+1"
   ]
  },
  {
   "cell_type": "markdown",
   "id": "516f0972",
   "metadata": {},
   "source": [
    "# 4 değeri benim listemde olduğu sürece true değeri verir"
   ]
  },
  {
   "cell_type": "code",
   "execution_count": 11,
   "id": "27eaf7fa",
   "metadata": {},
   "outputs": [
    {
     "data": {
      "text/plain": [
       "True"
      ]
     },
     "execution_count": 11,
     "metadata": {},
     "output_type": "execute_result"
    }
   ],
   "source": [
    "listem = [2,4,6,8,10]\n",
    "4 in listem"
   ]
  },
  {
   "cell_type": "markdown",
   "id": "94cd1586",
   "metadata": {},
   "source": [
    "Bu boolean değerini while döngüsü içinde kullanabiliriz.\n"
   ]
  },
  {
   "cell_type": "code",
   "execution_count": 23,
   "id": "1fad61fe",
   "metadata": {},
   "outputs": [
    {
     "name": "stdout",
     "output_type": "stream",
     "text": [
      "10\n",
      "8\n",
      "6\n",
      "4\n"
     ]
    }
   ],
   "source": [
    "listem = [2,4,6,8,10]\n",
    "while 4 in listem:\n",
    "    print(listem[len(listem)-1])\n",
    "    listem.pop(len(listem)-1)\n",
    "  \n",
    "    \n"
   ]
  },
  {
   "cell_type": "code",
   "execution_count": null,
   "id": "3ad34c61",
   "metadata": {},
   "outputs": [],
   "source": []
  }
 ],
 "metadata": {
  "kernelspec": {
   "display_name": "Python 3",
   "language": "python",
   "name": "python3"
  },
  "language_info": {
   "codemirror_mode": {
    "name": "ipython",
    "version": 3
   },
   "file_extension": ".py",
   "mimetype": "text/x-python",
   "name": "python",
   "nbconvert_exporter": "python",
   "pygments_lexer": "ipython3",
   "version": "3.8.8"
  }
 },
 "nbformat": 4,
 "nbformat_minor": 5
}
