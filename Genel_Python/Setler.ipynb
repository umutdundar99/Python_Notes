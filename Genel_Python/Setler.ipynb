{
 "cells": [
  {
   "cell_type": "markdown",
   "id": "3cc2aff2",
   "metadata": {},
   "source": [
    "# SÖZLÜKLER KONUSU "
   ]
  },
  {
   "cell_type": "markdown",
   "id": "ed92e92d",
   "metadata": {},
   "source": [
    "# SETLER"
   ]
  },
  {
   "cell_type": "markdown",
   "id": "0a36f14a",
   "metadata": {},
   "source": [
    "# Listelerde aynı değişken birçok kez bulunabilir ama setlerde bulunamaz. \n",
    "## Hepsini 1'e indirger. \n",
    "## Ayrıca index numaraları ile veriye ulaşılamaz."
   ]
  },
  {
   "cell_type": "code",
   "execution_count": 5,
   "id": "391d4f9c",
   "metadata": {},
   "outputs": [
    {
     "data": {
      "text/plain": [
       "{1, 2, 3, 4, 5}"
      ]
     },
     "execution_count": 5,
     "metadata": {},
     "output_type": "execute_result"
    }
   ],
   "source": [
    "liste=[1,2,3,1,2,3,3,2,1,4,5,3,5,4]\n",
    "setim= set(liste)\n",
    "setim\n"
   ]
  },
  {
   "cell_type": "markdown",
   "id": "16111a02",
   "metadata": {},
   "source": [
    "# Eğer boş bir süslü parantez verilirse default olarak sözlük olarak algılar, set olarak değil. Bu yüzden türünü değiştirmemiz gerekir."
   ]
  },
  {
   "cell_type": "code",
   "execution_count": 12,
   "id": "20e66ebe",
   "metadata": {},
   "outputs": [
    {
     "data": {
      "text/plain": [
       "dict"
      ]
     },
     "execution_count": 12,
     "metadata": {},
     "output_type": "execute_result"
    }
   ],
   "source": [
    "bosSozluk={}\n",
    "type(bosSozluk)"
   ]
  },
  {
   "cell_type": "code",
   "execution_count": 14,
   "id": "ba738f8e",
   "metadata": {},
   "outputs": [
    {
     "data": {
      "text/plain": [
       "{'Ankara': 6}"
      ]
     },
     "execution_count": 14,
     "metadata": {},
     "output_type": "execute_result"
    }
   ],
   "source": [
    "bosSozluk={}\n",
    "bosSozluk[\"Ankara\"]= 6\n",
    "bosSozluk"
   ]
  },
  {
   "cell_type": "markdown",
   "id": "4f2a7d8f",
   "metadata": {},
   "source": [
    "# Set için Remove Komutu ( POP komutu rastgele bir içeriği siler)"
   ]
  },
  {
   "cell_type": "code",
   "execution_count": 20,
   "id": "b8e2895b",
   "metadata": {},
   "outputs": [
    {
     "data": {
      "text/plain": [
       "{'banana', 'cherry'}"
      ]
     },
     "execution_count": 20,
     "metadata": {},
     "output_type": "execute_result"
    }
   ],
   "source": [
    "fruits = {\"banana\", \"grape\", \"cherry\"}\n",
    "fruits.remove(\"grape\")\n",
    "fruits"
   ]
  },
  {
   "cell_type": "markdown",
   "id": "5f665215",
   "metadata": {},
   "source": [
    "# Boş set tanımlama"
   ]
  },
  {
   "cell_type": "code",
   "execution_count": 16,
   "id": "344ea76d",
   "metadata": {},
   "outputs": [
    {
     "data": {
      "text/plain": [
       "set"
      ]
     },
     "execution_count": 16,
     "metadata": {},
     "output_type": "execute_result"
    }
   ],
   "source": [
    "benimBosSetim= set()\n",
    "benimBosSetim\n",
    "type(benimBosSetim)"
   ]
  },
  {
   "cell_type": "markdown",
   "id": "0fdb79f8",
   "metadata": {},
   "source": [
    "# Boş Liste ve Sözlük Tanımlama"
   ]
  },
  {
   "cell_type": "code",
   "execution_count": 17,
   "id": "f0233809",
   "metadata": {},
   "outputs": [],
   "source": [
    "benimBosListem=list()\n",
    "BenimBosSozlugum=dict()"
   ]
  },
  {
   "cell_type": "code",
   "execution_count": null,
   "id": "5bc4af5a",
   "metadata": {},
   "outputs": [],
   "source": []
  }
 ],
 "metadata": {
  "kernelspec": {
   "display_name": "Python 3",
   "language": "python",
   "name": "python3"
  },
  "language_info": {
   "codemirror_mode": {
    "name": "ipython",
    "version": 3
   },
   "file_extension": ".py",
   "mimetype": "text/x-python",
   "name": "python",
   "nbconvert_exporter": "python",
   "pygments_lexer": "ipython3",
   "version": "3.8.8"
  }
 },
 "nbformat": 4,
 "nbformat_minor": 5
}
