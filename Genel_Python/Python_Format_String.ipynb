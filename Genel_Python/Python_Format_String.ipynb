{
 "cells": [
  {
   "cell_type": "markdown",
   "id": "6e510a03",
   "metadata": {},
   "source": [
    "# Python Notlarım"
   ]
  },
  {
   "cell_type": "markdown",
   "id": "bd2bc7ac",
   "metadata": {},
   "source": [
    "# Python Type"
   ]
  },
  {
   "cell_type": "code",
   "execution_count": 9,
   "id": "8818a6ba",
   "metadata": {
    "scrolled": true
   },
   "outputs": [
    {
     "name": "stdout",
     "output_type": "stream",
     "text": [
      "<class 'int'>\n",
      "<class 'float'>\n"
     ]
    }
   ],
   "source": [
    "x=10\n",
    "y=2\n",
    "x/y\n",
    "print(type(x))\n",
    "print(type(x/y))"
   ]
  },
  {
   "cell_type": "markdown",
   "id": "b0d01ecc",
   "metadata": {},
   "source": [
    "# Sayısal Islemler"
   ]
  },
  {
   "cell_type": "code",
   "execution_count": 12,
   "id": "7fd79bd2",
   "metadata": {
    "scrolled": true
   },
   "outputs": [
    {
     "data": {
      "text/plain": [
       "1296"
      ]
     },
     "execution_count": 12,
     "metadata": {},
     "output_type": "execute_result"
    }
   ],
   "source": [
    "x=6\n",
    "x**2\n",
    "x**4"
   ]
  },
  {
   "cell_type": "markdown",
   "id": "da16a449",
   "metadata": {},
   "source": [
    "# Input olarak değer alma"
   ]
  },
  {
   "cell_type": "code",
   "execution_count": 18,
   "id": "a0c0d36c",
   "metadata": {},
   "outputs": [
    {
     "name": "stdout",
     "output_type": "stream",
     "text": [
      "Sayi giriniz5\n"
     ]
    },
    {
     "data": {
      "text/plain": [
       "str"
      ]
     },
     "execution_count": 18,
     "metadata": {},
     "output_type": "execute_result"
    }
   ],
   "source": [
    "sayi= input(\"Sayi giriniz\")\n",
    "type(sayi)"
   ]
  },
  {
   "cell_type": "markdown",
   "id": "95c6a02c",
   "metadata": {},
   "source": [
    "# Format İle değer alma"
   ]
  },
  {
   "cell_type": "code",
   "execution_count": 15,
   "id": "fedb9bd4",
   "metadata": {},
   "outputs": [
    {
     "name": "stdout",
     "output_type": "stream",
     "text": [
      "Ürünün fiyatı 49 liradır\n"
     ]
    }
   ],
   "source": [
    "ucret = 49\n",
    "metin = \"Ürünün fiyatı {} liradır\"\n",
    "print(metin.format(ucret))"
   ]
  },
  {
   "cell_type": "markdown",
   "id": "10c4774d",
   "metadata": {},
   "source": [
    "# Değerin nasıl dönüştürüleceğini belirtmek için süslü parantezler içine parametreler ekleyebilirsiniz."
   ]
  },
  {
   "cell_type": "code",
   "execution_count": 14,
   "id": "b18b7da1",
   "metadata": {},
   "outputs": [
    {
     "name": "stdout",
     "output_type": "stream",
     "text": [
      "Ürünün fiyatı 123.46 liradır\n"
     ]
    }
   ],
   "source": [
    "metin = \"Ürünün fiyatı {:.2f} liradır\"\n",
    "print( metin.format(123.45612))"
   ]
  },
  {
   "cell_type": "code",
   "execution_count": 19,
   "id": "212d0118",
   "metadata": {},
   "outputs": [
    {
     "name": "stdout",
     "output_type": "stream",
     "text": [
      "567 numaralı üründen 3 adetin fiyatı 147 liradır\n"
     ]
    }
   ],
   "source": [
    "adet =3\n",
    "urun_no =567\n",
    "fiyat =49\n",
    "print(\"{uno} numaralı üründen {miktar} adetin fiyatı {toplam} liradır\"\n",
    "      .format(uno=urun_no, miktar=adet,toplam= fiyat*adet))"
   ]
  },
  {
   "cell_type": "markdown",
   "id": "fbb0a129",
   "metadata": {},
   "source": [
    "# # Veri Tipleri String"
   ]
  },
  {
   "cell_type": "code",
   "execution_count": 30,
   "id": "c526a5a6",
   "metadata": {},
   "outputs": [
    {
     "name": "stdout",
     "output_type": "stream",
     "text": [
      "11\n"
     ]
    }
   ],
   "source": [
    "y= \"Umut Dundar\"\n",
    "y.find(\"u\")"
   ]
  },
  {
   "cell_type": "code",
   "execution_count": 31,
   "id": "c7c18ea1",
   "metadata": {},
   "outputs": [
    {
     "name": "stdout",
     "output_type": "stream",
     "text": [
      "11\n"
     ]
    }
   ],
   "source": [
    "y= \"Umut Dundar\"\n",
    "print(len(y))"
   ]
  },
  {
   "cell_type": "code",
   "execution_count": 23,
   "id": "c9d4b958",
   "metadata": {},
   "outputs": [
    {
     "data": {
      "text/plain": [
       "['Umut', 'Dundar']"
      ]
     },
     "execution_count": 23,
     "metadata": {},
     "output_type": "execute_result"
    }
   ],
   "source": [
    "y.split()"
   ]
  },
  {
   "cell_type": "markdown",
   "id": "d4942103",
   "metadata": {},
   "source": [
    "# Veri Tipi Değiştirme"
   ]
  },
  {
   "cell_type": "code",
   "execution_count": 26,
   "id": "b6944050",
   "metadata": {},
   "outputs": [
    {
     "name": "stdout",
     "output_type": "stream",
     "text": [
      "sayi gir5\n"
     ]
    },
    {
     "data": {
      "text/plain": [
       "int"
      ]
     },
     "execution_count": 26,
     "metadata": {},
     "output_type": "execute_result"
    }
   ],
   "source": [
    "y= input(\"sayi gir\")\n",
    "y= int(y)\n",
    "type(y)"
   ]
  },
  {
   "cell_type": "markdown",
   "id": "27a0e2d8",
   "metadata": {},
   "source": [
    "# STRING INDEX"
   ]
  },
  {
   "cell_type": "code",
   "execution_count": 32,
   "id": "8d529736",
   "metadata": {},
   "outputs": [
    {
     "data": {
      "text/plain": [
       "'23456789'"
      ]
     },
     "execution_count": 32,
     "metadata": {},
     "output_type": "execute_result"
    }
   ],
   "source": [
    "string=\"0123456789\"\n",
    "string[2:]"
   ]
  },
  {
   "cell_type": "raw",
   "id": "68f6e61f",
   "metadata": {},
   "source": [
    "string[-2:]"
   ]
  },
  {
   "cell_type": "code",
   "execution_count": 34,
   "id": "8d6dd811",
   "metadata": {},
   "outputs": [
    {
     "data": {
      "text/plain": [
       "'01'"
      ]
     },
     "execution_count": 34,
     "metadata": {},
     "output_type": "execute_result"
    }
   ],
   "source": [
    "string[:2]"
   ]
  },
  {
   "cell_type": "code",
   "execution_count": 35,
   "id": "cb391c00",
   "metadata": {},
   "outputs": [
    {
     "data": {
      "text/plain": [
       "'01234567'"
      ]
     },
     "execution_count": 35,
     "metadata": {},
     "output_type": "execute_result"
    }
   ],
   "source": [
    "string[:-2]"
   ]
  },
  {
   "cell_type": "code",
   "execution_count": 36,
   "id": "f733bb77",
   "metadata": {
    "scrolled": true
   },
   "outputs": [
    {
     "data": {
      "text/plain": [
       "'23'"
      ]
     },
     "execution_count": 36,
     "metadata": {},
     "output_type": "execute_result"
    }
   ],
   "source": [
    "string[2:4]"
   ]
  },
  {
   "cell_type": "markdown",
   "id": "b88fd36d",
   "metadata": {},
   "source": [
    "Buradaki 6 sayısı atlama miktarıdır"
   ]
  },
  {
   "cell_type": "code",
   "execution_count": 38,
   "id": "3e554282",
   "metadata": {},
   "outputs": [
    {
     "data": {
      "text/plain": [
       "'246'"
      ]
     },
     "execution_count": 38,
     "metadata": {},
     "output_type": "execute_result"
    }
   ],
   "source": [
    "string[2:8:2]"
   ]
  },
  {
   "cell_type": "markdown",
   "id": "c16ba46e",
   "metadata": {},
   "source": [
    "Tersten Yazma"
   ]
  },
  {
   "cell_type": "code",
   "execution_count": 39,
   "id": "a799589a",
   "metadata": {},
   "outputs": [
    {
     "data": {
      "text/plain": [
       "'9876543210'"
      ]
     },
     "execution_count": 39,
     "metadata": {},
     "output_type": "execute_result"
    }
   ],
   "source": [
    "string[::-1]"
   ]
  }
 ],
 "metadata": {
  "kernelspec": {
   "display_name": "Python 3",
   "language": "python",
   "name": "python3"
  },
  "language_info": {
   "codemirror_mode": {
    "name": "ipython",
    "version": 3
   },
   "file_extension": ".py",
   "mimetype": "text/x-python",
   "name": "python",
   "nbconvert_exporter": "python",
   "pygments_lexer": "ipython3",
   "version": "3.8.8"
  }
 },
 "nbformat": 4,
 "nbformat_minor": 5
}
