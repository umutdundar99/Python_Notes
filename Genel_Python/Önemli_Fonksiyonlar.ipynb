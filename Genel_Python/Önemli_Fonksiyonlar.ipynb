{
 "cells": [
  {
   "cell_type": "markdown",
   "id": "4484b857",
   "metadata": {},
   "source": [
    "# Önemli Fonksiyonlar"
   ]
  },
  {
   "cell_type": "code",
   "execution_count": 7,
   "id": "8c8c84a3",
   "metadata": {},
   "outputs": [],
   "source": [
    "liste=[1,2,3,4,5,6,7,8,9,10]\n",
    "def bolmeIslemi(numara):\n",
    "    return numara/2"
   ]
  },
  {
   "cell_type": "code",
   "execution_count": 9,
   "id": "4502ca7f",
   "metadata": {},
   "outputs": [
    {
     "data": {
      "text/plain": [
       "[0.5, 1.0, 1.5, 2.0, 2.5, 3.0, 3.5, 4.0, 4.5, 5.0]"
      ]
     },
     "execution_count": 9,
     "metadata": {},
     "output_type": "execute_result"
    }
   ],
   "source": [
    "yeniListe=[]\n",
    "for eleman in liste:\n",
    "    yeniListe.append(bolmeIslemi(eleman))\n",
    "yeniListe"
   ]
  },
  {
   "cell_type": "markdown",
   "id": "32440cbd",
   "metadata": {},
   "source": [
    "# MAP KULLANIMI"
   ]
  },
  {
   "cell_type": "markdown",
   "id": "46dec1ea",
   "metadata": {},
   "source": [
    "# Map komutu bir listede bir fonkisyonun uygulanmasını sağlar ve bir\n",
    "# değişken olarak listeye atanabilir."
   ]
  },
  {
   "cell_type": "code",
   "execution_count": 10,
   "id": "392dd841",
   "metadata": {},
   "outputs": [
    {
     "data": {
      "text/plain": [
       "[0.25, 0.5, 0.75, 1.0, 1.25, 1.5, 1.75, 2.0, 2.25, 2.5]"
      ]
     },
     "execution_count": 10,
     "metadata": {},
     "output_type": "execute_result"
    }
   ],
   "source": [
    "list(map(bolmeIslemi,yeniListe))"
   ]
  },
  {
   "cell_type": "code",
   "execution_count": 14,
   "id": "b8d88fe7",
   "metadata": {},
   "outputs": [
    {
     "data": {
      "text/plain": [
       "[True, False, True, False]"
      ]
     },
     "execution_count": 14,
     "metadata": {},
     "output_type": "execute_result"
    }
   ],
   "source": [
    "def kontrolFonksiyonu(string):\n",
    "    return \"a\" in string\n",
    "stringListesi=[\"ahmet\",\"Mehmet\",\"anıl\",\"Umut\"]\n",
    "sonuc=list(map(kontrolFonksiyonu,stringListesi))\n",
    "sonuc"
   ]
  },
  {
   "cell_type": "code",
   "execution_count": 16,
   "id": "0a6eedf4",
   "metadata": {},
   "outputs": [
    {
     "data": {
      "text/plain": [
       "2"
      ]
     },
     "execution_count": 16,
     "metadata": {},
     "output_type": "execute_result"
    }
   ],
   "source": [
    "sonuc.count(True)"
   ]
  },
  {
   "cell_type": "markdown",
   "id": "3143f46d",
   "metadata": {},
   "source": [
    "# Filter Fonksiyonu"
   ]
  },
  {
   "cell_type": "markdown",
   "id": "db75de58",
   "metadata": {},
   "source": [
    "True olan bilgileri döndürmektedir."
   ]
  },
  {
   "cell_type": "code",
   "execution_count": 19,
   "id": "174e79e4",
   "metadata": {},
   "outputs": [
    {
     "data": {
      "text/plain": [
       "['ahmet', 'anıl']"
      ]
     },
     "execution_count": 19,
     "metadata": {},
     "output_type": "execute_result"
    }
   ],
   "source": [
    "list(filter(kontrolFonksiyonu,stringListesi))"
   ]
  },
  {
   "cell_type": "markdown",
   "id": "92868dc8",
   "metadata": {},
   "source": [
    "# Lambda Fonksiyonu\n"
   ]
  },
  {
   "cell_type": "markdown",
   "id": "905dd871",
   "metadata": {},
   "source": [
    "Tek satırda fonksiyon yazmayı sağlar."
   ]
  },
  {
   "cell_type": "code",
   "execution_count": 20,
   "id": "0a5346d2",
   "metadata": {},
   "outputs": [
    {
     "data": {
      "text/plain": [
       "30"
      ]
     },
     "execution_count": 20,
     "metadata": {},
     "output_type": "execute_result"
    }
   ],
   "source": [
    "carpma = lambda numara: numara *3 \n",
    "carpma(10)"
   ]
  },
  {
   "cell_type": "code",
   "execution_count": 23,
   "id": "a8219549",
   "metadata": {},
   "outputs": [
    {
     "data": {
      "text/plain": [
       "[40, 80, 120, 160]"
      ]
     },
     "execution_count": 23,
     "metadata": {},
     "output_type": "execute_result"
    }
   ],
   "source": [
    "ornekListesi=[10,20,30,40]\n",
    "list(map(lambda numara : numara * 4, ornekListesi))"
   ]
  },
  {
   "cell_type": "code",
   "execution_count": null,
   "id": "f596dcab",
   "metadata": {},
   "outputs": [],
   "source": []
  }
 ],
 "metadata": {
  "kernelspec": {
   "display_name": "Python 3",
   "language": "python",
   "name": "python3"
  },
  "language_info": {
   "codemirror_mode": {
    "name": "ipython",
    "version": 3
   },
   "file_extension": ".py",
   "mimetype": "text/x-python",
   "name": "python",
   "nbconvert_exporter": "python",
   "pygments_lexer": "ipython3",
   "version": "3.8.8"
  }
 },
 "nbformat": 4,
 "nbformat_minor": 5
}
